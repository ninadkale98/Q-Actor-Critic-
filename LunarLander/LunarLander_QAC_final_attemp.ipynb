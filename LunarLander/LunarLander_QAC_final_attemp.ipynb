{
 "cells": [
  {
   "cell_type": "code",
   "execution_count": 1,
   "metadata": {},
   "outputs": [
    {
     "name": "stdout",
     "output_type": "stream",
     "text": [
      "cuda  in use\n"
     ]
    },
    {
     "data": {
      "text/plain": [
       "'NVIDIA RTX A5500 Laptop GPU'"
      ]
     },
     "execution_count": 1,
     "metadata": {},
     "output_type": "execute_result"
    }
   ],
   "source": [
    "import gymnasium as gym\n",
    "from gymnasium import spaces\n",
    "\n",
    "# PyTorch imports\n",
    "import torch\n",
    "from torch import nn\n",
    "import torch.optim as optim\n",
    "import torch.nn.functional as F\n",
    "from torch.distributions import Categorical\n",
    "if torch.cuda.is_available():\n",
    "  device = \"cuda\" \n",
    "else:\n",
    "  device = \"cpu\"\n",
    "device_ = torch.device(device)\n",
    "print(device, \" in use\")\n",
    "torch.autograd.set_detect_anomaly(True)\n",
    "\n",
    "# Utility librarues\n",
    "import base64, io\n",
    "import random\n",
    "import pickle\n",
    "import numpy as np\n",
    "import time\n",
    "import matplotlib\n",
    "import matplotlib.pyplot as plt\n",
    "#plt.style.use('seaborn')\n",
    "from itertools import count\n",
    "\n",
    "is_ipython = 'inline' in matplotlib.get_backend()\n",
    "if is_ipython:\n",
    "    from IPython import display\n",
    "\n",
    "plt.ion()\n",
    "\n",
    "torch.cuda.get_device_name(0)"
   ]
  },
  {
   "cell_type": "code",
   "execution_count": 2,
   "metadata": {},
   "outputs": [],
   "source": [
    "env = gym.make('LunarLander-v2')\n",
    "\n",
    "obs_space = 8\n",
    "action_space = 4"
   ]
  },
  {
   "cell_type": "code",
   "execution_count": 3,
   "metadata": {},
   "outputs": [],
   "source": [
    "class Actor_net(nn.Module):\n",
    "    def __init__(self):\n",
    "        super(Actor_net, self).__init__()\n",
    "        self.layer1 = nn.Linear(obs_space, 128)\n",
    "        self.hidden = nn.Linear(128, 128)\n",
    "        self.out = nn.Linear(128, action_space) # action probabilities\n",
    "\n",
    "    def forward(self, x):\n",
    "        x = F.relu(self.layer1(x))\n",
    "        x = F.relu(self.hidden(x))\n",
    "        action_prob = F.softmax(self.out(x), dim= -1) # softmax\n",
    "        return action_prob"
   ]
  },
  {
   "cell_type": "code",
   "execution_count": 4,
   "metadata": {},
   "outputs": [],
   "source": [
    "class Critic_net(nn.Module):\n",
    "    def __init__(self):\n",
    "        super(Critic_net, self).__init__()\n",
    "        self.layer1 = nn.Linear(obs_space + 1, 128)\n",
    "        self.hidden = nn.Linear(128, 128)\n",
    "        self.out = nn.Linear(128, 1) # action probabilities\n",
    "\n",
    "    def forward(self, x):\n",
    "        x = F.relu(self.layer1(x))\n",
    "        x = F.relu(self.hidden(x))\n",
    "        Q_val = self.out(x)\n",
    "        return Q_val"
   ]
  },
  {
   "cell_type": "code",
   "execution_count": 5,
   "metadata": {},
   "outputs": [],
   "source": [
    "Actor = Actor_net().to(device)\n",
    "Critic = Critic_net().to(device)\n",
    "\n",
    "Actor_lr = 0.0001\n",
    "Actor_optim = optim.SGD(Actor.parameters(), lr = Actor_lr)\n",
    "Qsa_lr = 0.0001\n",
    "Critic_optim = optim.SGD(Critic.parameters(), lr = Qsa_lr)"
   ]
  },
  {
   "cell_type": "code",
   "execution_count": 6,
   "metadata": {},
   "outputs": [
    {
     "data": {
      "text/plain": [
       "<All keys matched successfully>"
      ]
     },
     "execution_count": 6,
     "metadata": {},
     "output_type": "execute_result"
    }
   ],
   "source": [
    "PATH = \"LunarLander_Actor_QAC.pth\"\n",
    "Actor.load_state_dict(torch.load(PATH))\n",
    "\n",
    "PATH = \"LunarLander_Critic_QAC.pth\"\n",
    "Critic.load_state_dict(torch.load(PATH))"
   ]
  },
  {
   "cell_type": "code",
   "execution_count": 7,
   "metadata": {},
   "outputs": [],
   "source": [
    "with open('LunarLander_reward_epi_QAC.pkl', 'rb') as f:\n",
    "    reward_epi = pickle.load(f)\n",
    "\n",
    "with open('LunarLander_avg_reward_QAC.pkl', 'rb') as f:\n",
    "    avg_reward = pickle.load(f)"
   ]
  },
  {
   "cell_type": "code",
   "execution_count": null,
   "metadata": {},
   "outputs": [],
   "source": [
    "plt.plot(reward_epi, label = 'rew/epi')\n",
    "plt.plot(avg_reward, label = 'avg_rew')"
   ]
  },
  {
   "cell_type": "code",
   "execution_count": 8,
   "metadata": {},
   "outputs": [],
   "source": [
    "max_itr = 1000\n",
    "gamma = 0.99"
   ]
  },
  {
   "cell_type": "code",
   "execution_count": 9,
   "metadata": {},
   "outputs": [
    {
     "ename": "KeyboardInterrupt",
     "evalue": "",
     "output_type": "error",
     "traceback": [
      "\u001b[0;31m---------------------------------------------------------------------------\u001b[0m",
      "\u001b[0;31mKeyboardInterrupt\u001b[0m                         Traceback (most recent call last)",
      "Cell \u001b[0;32mIn[9], line 37\u001b[0m\n\u001b[1;32m     34\u001b[0m Critic_optim\u001b[39m.\u001b[39mstep()\n\u001b[1;32m     36\u001b[0m Actor_optim\u001b[39m.\u001b[39mzero_grad()\n\u001b[0;32m---> 37\u001b[0m Actor_loss\u001b[39m.\u001b[39;49mbackward()\n\u001b[1;32m     38\u001b[0m Actor_optim\u001b[39m.\u001b[39mstep()\n\u001b[1;32m     42\u001b[0m obs \u001b[39m=\u001b[39m obs_next\n",
      "File \u001b[0;32m~/miniconda3/envs/rl/lib/python3.11/site-packages/torch/_tensor.py:487\u001b[0m, in \u001b[0;36mTensor.backward\u001b[0;34m(self, gradient, retain_graph, create_graph, inputs)\u001b[0m\n\u001b[1;32m    477\u001b[0m \u001b[39mif\u001b[39;00m has_torch_function_unary(\u001b[39mself\u001b[39m):\n\u001b[1;32m    478\u001b[0m     \u001b[39mreturn\u001b[39;00m handle_torch_function(\n\u001b[1;32m    479\u001b[0m         Tensor\u001b[39m.\u001b[39mbackward,\n\u001b[1;32m    480\u001b[0m         (\u001b[39mself\u001b[39m,),\n\u001b[0;32m   (...)\u001b[0m\n\u001b[1;32m    485\u001b[0m         inputs\u001b[39m=\u001b[39minputs,\n\u001b[1;32m    486\u001b[0m     )\n\u001b[0;32m--> 487\u001b[0m torch\u001b[39m.\u001b[39;49mautograd\u001b[39m.\u001b[39;49mbackward(\n\u001b[1;32m    488\u001b[0m     \u001b[39mself\u001b[39;49m, gradient, retain_graph, create_graph, inputs\u001b[39m=\u001b[39;49minputs\n\u001b[1;32m    489\u001b[0m )\n",
      "File \u001b[0;32m~/miniconda3/envs/rl/lib/python3.11/site-packages/torch/autograd/__init__.py:200\u001b[0m, in \u001b[0;36mbackward\u001b[0;34m(tensors, grad_tensors, retain_graph, create_graph, grad_variables, inputs)\u001b[0m\n\u001b[1;32m    195\u001b[0m     retain_graph \u001b[39m=\u001b[39m create_graph\n\u001b[1;32m    197\u001b[0m \u001b[39m# The reason we repeat same the comment below is that\u001b[39;00m\n\u001b[1;32m    198\u001b[0m \u001b[39m# some Python versions print out the first line of a multi-line function\u001b[39;00m\n\u001b[1;32m    199\u001b[0m \u001b[39m# calls in the traceback and some print out the last line\u001b[39;00m\n\u001b[0;32m--> 200\u001b[0m Variable\u001b[39m.\u001b[39;49m_execution_engine\u001b[39m.\u001b[39;49mrun_backward(  \u001b[39m# Calls into the C++ engine to run the backward pass\u001b[39;49;00m\n\u001b[1;32m    201\u001b[0m     tensors, grad_tensors_, retain_graph, create_graph, inputs,\n\u001b[1;32m    202\u001b[0m     allow_unreachable\u001b[39m=\u001b[39;49m\u001b[39mTrue\u001b[39;49;00m, accumulate_grad\u001b[39m=\u001b[39;49m\u001b[39mTrue\u001b[39;49;00m)\n",
      "\u001b[0;31mKeyboardInterrupt\u001b[0m: "
     ]
    },
    {
     "data": {
      "text/plain": [
       "<Figure size 640x480 with 0 Axes>"
      ]
     },
     "metadata": {},
     "output_type": "display_data"
    }
   ],
   "source": [
    "#reward_epi = []\n",
    "#avg_reward = []\n",
    "running_reward = 10\n",
    "for cnt in count():\n",
    "    obs, info = env.reset()\n",
    "    terminated, truncated = False, False\n",
    "    ep_reward = 0\n",
    "\n",
    "    for i in range(max_itr):\n",
    "\n",
    "        a_prob = Actor(torch.tensor(obs).float().to(device))\n",
    "        a = torch.multinomial(a_prob, 1)\n",
    "        a_log_prob = torch.log(a_prob[a]) \n",
    "\n",
    "        Qsa = Critic(torch.cat((torch.tensor(obs).to(device), a)).to(device))\n",
    "\n",
    "        obs_next, reward, terminated, truncated, _ = env.step(a[0].detach().to(\"cpu\").numpy())\n",
    "        \n",
    "        if terminated or truncated:\n",
    "            expected = reward\n",
    "        else:\n",
    "            a_new_prob = Actor(torch.tensor(obs_next).float().to(device))\n",
    "            a_next = torch.multinomial(a_new_prob, 1)\n",
    "            Qsa_next = Critic(torch.cat((torch.tensor(obs_next).to(device), a_next)).to(device) )\n",
    "            expected = reward + gamma*Qsa_next\n",
    "\n",
    "        td_error = expected - Qsa\n",
    "\n",
    "        Actor_loss = -a_log_prob*td_error.detach()\n",
    "        Critic_loss = torch.square(expected - Qsa)\n",
    "\n",
    "        Critic_optim.zero_grad()\n",
    "        Critic_loss.backward()\n",
    "        Critic_optim.step()\n",
    "\n",
    "        Actor_optim.zero_grad()\n",
    "        Actor_loss.backward()\n",
    "        Actor_optim.step()\n",
    "\n",
    "        \n",
    "\n",
    "        obs = obs_next\n",
    "        ep_reward += reward\n",
    "\n",
    "        if truncated or terminated:\n",
    "            reward_epi.append(ep_reward)\n",
    "            break\n",
    "\n",
    "    running_reward = 0.05 * ep_reward + (1-0.05) * running_reward\n",
    "    avg_reward.append(running_reward)\n",
    "\n",
    "    if (cnt+1)% 10 == 0:\n",
    "        plt.plot(reward_epi)\n",
    "        plt.plot(avg_reward)\n",
    "        plt.pause(0.001)\n",
    "\n",
    "        display.display(plt.gcf())\n",
    "        display.clear_output(wait=True)\n",
    "        "
   ]
  },
  {
   "cell_type": "code",
   "execution_count": 10,
   "metadata": {},
   "outputs": [
    {
     "data": {
      "text/plain": [
       "[<matplotlib.lines.Line2D at 0x7f17cc89d0d0>]"
      ]
     },
     "execution_count": 10,
     "metadata": {},
     "output_type": "execute_result"
    },
    {
     "data": {
      "image/png": "[encoded data removed]",
      "text/plain": [
       "<Figure size 640x480 with 1 Axes>"
      ]
     },
     "metadata": {},
     "output_type": "display_data"
    }
   ],
   "source": [
    "plt.plot(reward_epi, label = 'rew/epi')\n",
    "plt.plot(avg_reward, label = 'avg_rew')"
   ]
  },
  {
   "cell_type": "markdown",
   "metadata": {},
   "source": []
  },
  {
   "attachments": {},
   "cell_type": "markdown",
   "metadata": {},
   "source": [
    "## Save "
   ]
  },
  {
   "cell_type": "code",
   "execution_count": 17,
   "metadata": {},
   "outputs": [],
   "source": [
    "PATH = \"LunarLander_Actor_QAC.pth\"\n",
    "torch.save(Actor.state_dict(), PATH)\n",
    "\n",
    "weights = Actor.state_dict()\n",
    "with open('LunarLander_Actor_QAC.pkl', 'wb') as f:\n",
    "    pickle.dump(weights, f)"
   ]
  },
  {
   "cell_type": "code",
   "execution_count": 18,
   "metadata": {},
   "outputs": [],
   "source": [
    "PATH = \"LunarLander_Critic_QAC.pth\"\n",
    "torch.save(Critic.state_dict(), PATH)\n",
    "\n",
    "weights = Critic.state_dict()\n",
    "with open('LunarLander_Critic_QAC.pkl', 'wb') as f:\n",
    "    pickle.dump(weights, f)"
   ]
  },
  {
   "cell_type": "code",
   "execution_count": 19,
   "metadata": {},
   "outputs": [],
   "source": [
    "with open('LunarLander_reward_epi_QAC.pkl', 'wb') as f:\n",
    "    pickle.dump(reward_epi, f)\n",
    "\n",
    "with open('LunarLander_avg_reward_QAC.pkl', 'wb') as f:\n",
    "    pickle.dump(avg_reward, f)"
   ]
  },
  {
   "attachments": {},
   "cell_type": "markdown",
   "metadata": {},
   "source": [
    "## Load"
   ]
  },
  {
   "cell_type": "code",
   "execution_count": 21,
   "metadata": {},
   "outputs": [
    {
     "data": {
      "text/plain": [
       "<All keys matched successfully>"
      ]
     },
     "execution_count": 21,
     "metadata": {},
     "output_type": "execute_result"
    }
   ],
   "source": [
    "PATH = \"LunarLander_Actor_QAC.pth\"\n",
    "Actor.load_state_dict(torch.load(PATH))\n",
    "\n",
    "PATH = \"LunarLander_Critic_QAC.pth\"\n",
    "Critic.load_state_dict(torch.load(PATH))"
   ]
  },
  {
   "cell_type": "code",
   "execution_count": 20,
   "metadata": {},
   "outputs": [],
   "source": [
    "with open('LunarLander_reward_epi_QAC.pkl', 'rb') as f:\n",
    "    reward_epi = pickle.load(f)\n",
    "\n",
    "with open('LunarLander_avg_reward_QAC.pkl', 'rb') as f:\n",
    "    avg_reward = pickle.load(f)"
   ]
  },
  {
   "cell_type": "code",
   "execution_count": null,
   "metadata": {},
   "outputs": [],
   "source": [
    "plt.plot(reward_epi, label = 'rew/epi')\n",
    "plt.plot(avg_reward, label = 'avg_rew')"
   ]
  }
 ],
 "metadata": {
  "kernelspec": {
   "display_name": "rl",
   "language": "python",
   "name": "python3"
  },
  "language_info": {
   "codemirror_mode": {
    "name": "ipython",
    "version": 3
   },
   "file_extension": ".py",
   "mimetype": "text/x-python",
   "name": "python",
   "nbconvert_exporter": "python",
   "pygments_lexer": "ipython3",
   "version": "3.11.2"
  },
  "orig_nbformat": 4
 },
 "nbformat": 4,
 "nbformat_minor": 2
}
