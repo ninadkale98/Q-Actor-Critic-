{
 "cells": [
  {
   "cell_type": "code",
   "execution_count": 54,
   "metadata": {},
   "outputs": [
    {
     "name": "stdout",
     "output_type": "stream",
     "text": [
      "cuda  in use\n"
     ]
    },
    {
     "name": "stderr",
     "output_type": "stream",
     "text": [
      "/tmp/ipykernel_1095/777588319.py:27: MatplotlibDeprecationWarning: The seaborn styles shipped by Matplotlib are deprecated since 3.6, as they no longer correspond to the styles shipped by seaborn. However, they will remain available as 'seaborn-v0_8-<style>'. Alternatively, directly use the seaborn API instead.\n",
      "  plt.style.use('seaborn')\n"
     ]
    },
    {
     "data": {
      "text/plain": [
       "<contextlib.ExitStack at 0x7f387e8dca10>"
      ]
     },
     "execution_count": 54,
     "metadata": {},
     "output_type": "execute_result"
    }
   ],
   "source": [
    "import gymnasium as gym\n",
    "from gymnasium import spaces\n",
    "\n",
    "# PyTorch imports\n",
    "import torch\n",
    "from torch import nn\n",
    "import torch.optim as optim\n",
    "import torch.nn.functional as F\n",
    "from torch.distributions import Categorical\n",
    "\n",
    "if torch.cuda.is_available():\n",
    "  device = \"cuda\" \n",
    "else:\n",
    "  device = \"cpu\"\n",
    "print(device, \" in use\")\n",
    "\n",
    "#torch.autograd.set_detect_anomaly(True)\n",
    "\n",
    "# Utility librarues\n",
    "import base64, io\n",
    "import random\n",
    "import pickle\n",
    "import numpy as np\n",
    "import time\n",
    "import matplotlib\n",
    "import matplotlib.pyplot as plt\n",
    "plt.style.use('seaborn')\n",
    "from itertools import count\n",
    "\n",
    "is_ipython = 'inline' in matplotlib.get_backend()\n",
    "if is_ipython:\n",
    "    from IPython import display\n",
    "\n",
    "plt.ion()"
   ]
  },
  {
   "cell_type": "code",
   "execution_count": 55,
   "metadata": {},
   "outputs": [],
   "source": [
    "env = gym.make('CartPole-v1')\n",
    "\n",
    "obs_space = 4\n",
    "action_space = 2\n",
    "\n",
    "debug = False"
   ]
  },
  {
   "cell_type": "markdown",
   "metadata": {},
   "source": []
  },
  {
   "attachments": {},
   "cell_type": "markdown",
   "metadata": {},
   "source": [
    "# Actor Network"
   ]
  },
  {
   "cell_type": "code",
   "execution_count": 56,
   "metadata": {},
   "outputs": [],
   "source": [
    "class Actor(nn.Module):\n",
    "    def __init__(self):\n",
    "        super(Actor, self).__init__()\n",
    "        self.layer1 = nn.Linear(obs_space, 128)\n",
    "        self.hidden = nn.Linear(128, 128)\n",
    "        self.out = nn.Linear(128, action_space) # action probabilities\n",
    "\n",
    "    def forward(self, x):\n",
    "        x = F.relu(self.layer1(x))\n",
    "        x = F.relu(self.hidden(x))\n",
    "        action_prob = F.softmax(self.out(x), dim=-1) \n",
    "        if debug:\n",
    "            print(\"Action Prob returned by actor model\\n\\t\", action_prob)\n",
    "            print(\"To check is action prob 1d or not \\n\")\n",
    "        return action_prob\n"
   ]
  },
  {
   "attachments": {},
   "cell_type": "markdown",
   "metadata": {},
   "source": [
    "# Q Critic Network"
   ]
  },
  {
   "cell_type": "code",
   "execution_count": 57,
   "metadata": {},
   "outputs": [],
   "source": [
    "class Q_Critic(nn.Module):\n",
    "    def __init__(self):\n",
    "        super(Q_Critic, self).__init__()\n",
    "        self.layer1 = nn.Linear(obs_space + 1, 128)\n",
    "        self.hidden = nn.Linear(128, 128)\n",
    "        self.out = nn.Linear(128, 1) # action probabilities\n",
    "\n",
    "    def forward(self, x):\n",
    "        x = F.relu(self.layer1(x))\n",
    "        x = F.relu(self.hidden(x))\n",
    "        Q_val = self.out(x)\n",
    "        return Q_val"
   ]
  },
  {
   "attachments": {},
   "cell_type": "markdown",
   "metadata": {},
   "source": [
    "# Utility Functions"
   ]
  },
  {
   "cell_type": "code",
   "execution_count": 58,
   "metadata": {},
   "outputs": [],
   "source": [
    "def give_action(obs, Actor_model): # obs in numpy\n",
    "    \n",
    "    obs = torch.from_numpy(obs).float()\n",
    "    probs = Actor_model(obs)\n",
    "    dist = Categorical(probs)\n",
    "    action = dist.sample()\n",
    "    log_prob = dist.log_prob(action)\n",
    "\n",
    "    return action.item(), log_prob\n"
   ]
  },
  {
   "cell_type": "code",
   "execution_count": 59,
   "metadata": {},
   "outputs": [],
   "source": [
    "def give_Qsa(obs, action, Qsa_model): # obs, action both in numpy\n",
    "    action -= 0.5\n",
    "    inp = np.concatenate((obs, [action]))\n",
    "    inp = np.reshape(inp, -1)\n",
    "    inp = torch.from_numpy(inp).float()\n",
    "    \n",
    "    Qval = Qsa_model(inp)\n",
    "\n",
    "    return Qval"
   ]
  },
  {
   "attachments": {},
   "cell_type": "markdown",
   "metadata": {},
   "source": [
    "## Define Model"
   ]
  },
  {
   "cell_type": "code",
   "execution_count": 63,
   "metadata": {},
   "outputs": [],
   "source": [
    "Actor_model = Actor()\n",
    "Qsa_model = Q_Critic()\n",
    "Actor_lr = 0.001\n",
    "Actor_optim = optim.Adam(Actor_model.parameters(), lr = Actor_lr)\n",
    "Qsa_lr = 0.001\n",
    "Qsa_optim = optim.Adam(Qsa_model.parameters(), lr = Qsa_lr)\n",
    "\n",
    "max_itr = 600\n",
    "gamma = 0.99\n",
    "mini_batch = 2"
   ]
  },
  {
   "cell_type": "code",
   "execution_count": 64,
   "metadata": {},
   "outputs": [
    {
     "ename": "KeyboardInterrupt",
     "evalue": "",
     "output_type": "error",
     "traceback": [
      "\u001b[0;31m---------------------------------------------------------------------------\u001b[0m",
      "\u001b[0;31mKeyboardInterrupt\u001b[0m                         Traceback (most recent call last)",
      "Cell \u001b[0;32mIn[64], line 35\u001b[0m\n\u001b[1;32m     33\u001b[0m \u001b[39melse\u001b[39;00m:\n\u001b[1;32m     34\u001b[0m     \u001b[39mwith\u001b[39;00m torch\u001b[39m.\u001b[39mno_grad():\n\u001b[0;32m---> 35\u001b[0m         new_action, _ \u001b[39m=\u001b[39m give_action(new_obs, Actor_model)\n\u001b[1;32m     36\u001b[0m         new_Qsa \u001b[39m=\u001b[39m give_Qsa(new_obs, new_action, Qsa_model)\n\u001b[1;32m     38\u001b[0m exp \u001b[39m=\u001b[39m reward \u001b[39m+\u001b[39m gamma\u001b[39m*\u001b[39mnew_Qsa\n",
      "Cell \u001b[0;32mIn[58], line 4\u001b[0m, in \u001b[0;36mgive_action\u001b[0;34m(obs, Actor_model)\u001b[0m\n\u001b[1;32m      1\u001b[0m \u001b[39mdef\u001b[39;00m \u001b[39mgive_action\u001b[39m(obs, Actor_model): \u001b[39m# obs in numpy\u001b[39;00m\n\u001b[1;32m      3\u001b[0m     obs \u001b[39m=\u001b[39m torch\u001b[39m.\u001b[39mfrom_numpy(obs)\u001b[39m.\u001b[39mfloat()\n\u001b[0;32m----> 4\u001b[0m     probs \u001b[39m=\u001b[39m Actor_model(obs)\n\u001b[1;32m      5\u001b[0m     dist \u001b[39m=\u001b[39m Categorical(probs)\n\u001b[1;32m      6\u001b[0m     action \u001b[39m=\u001b[39m dist\u001b[39m.\u001b[39msample()\n",
      "File \u001b[0;32m~/miniconda3/envs/rl/lib/python3.11/site-packages/torch/nn/modules/module.py:1501\u001b[0m, in \u001b[0;36mModule._call_impl\u001b[0;34m(self, *args, **kwargs)\u001b[0m\n\u001b[1;32m   1496\u001b[0m \u001b[39m# If we don't have any hooks, we want to skip the rest of the logic in\u001b[39;00m\n\u001b[1;32m   1497\u001b[0m \u001b[39m# this function, and just call forward.\u001b[39;00m\n\u001b[1;32m   1498\u001b[0m \u001b[39mif\u001b[39;00m \u001b[39mnot\u001b[39;00m (\u001b[39mself\u001b[39m\u001b[39m.\u001b[39m_backward_hooks \u001b[39mor\u001b[39;00m \u001b[39mself\u001b[39m\u001b[39m.\u001b[39m_backward_pre_hooks \u001b[39mor\u001b[39;00m \u001b[39mself\u001b[39m\u001b[39m.\u001b[39m_forward_hooks \u001b[39mor\u001b[39;00m \u001b[39mself\u001b[39m\u001b[39m.\u001b[39m_forward_pre_hooks\n\u001b[1;32m   1499\u001b[0m         \u001b[39mor\u001b[39;00m _global_backward_pre_hooks \u001b[39mor\u001b[39;00m _global_backward_hooks\n\u001b[1;32m   1500\u001b[0m         \u001b[39mor\u001b[39;00m _global_forward_hooks \u001b[39mor\u001b[39;00m _global_forward_pre_hooks):\n\u001b[0;32m-> 1501\u001b[0m     \u001b[39mreturn\u001b[39;00m forward_call(\u001b[39m*\u001b[39;49margs, \u001b[39m*\u001b[39;49m\u001b[39m*\u001b[39;49mkwargs)\n\u001b[1;32m   1502\u001b[0m \u001b[39m# Do not call functions when jit is used\u001b[39;00m\n\u001b[1;32m   1503\u001b[0m full_backward_hooks, non_full_backward_hooks \u001b[39m=\u001b[39m [], []\n",
      "Cell \u001b[0;32mIn[56], line 9\u001b[0m, in \u001b[0;36mActor.forward\u001b[0;34m(self, x)\u001b[0m\n\u001b[1;32m      8\u001b[0m \u001b[39mdef\u001b[39;00m \u001b[39mforward\u001b[39m(\u001b[39mself\u001b[39m, x):\n\u001b[0;32m----> 9\u001b[0m     x \u001b[39m=\u001b[39m F\u001b[39m.\u001b[39;49mrelu(\u001b[39mself\u001b[39;49m\u001b[39m.\u001b[39;49mlayer1(x))\n\u001b[1;32m     10\u001b[0m     x \u001b[39m=\u001b[39m F\u001b[39m.\u001b[39mrelu(\u001b[39mself\u001b[39m\u001b[39m.\u001b[39mhidden(x))\n\u001b[1;32m     11\u001b[0m     action_prob \u001b[39m=\u001b[39m F\u001b[39m.\u001b[39msoftmax(\u001b[39mself\u001b[39m\u001b[39m.\u001b[39mout(x), dim\u001b[39m=\u001b[39m\u001b[39m-\u001b[39m\u001b[39m1\u001b[39m) \n",
      "File \u001b[0;32m~/miniconda3/envs/rl/lib/python3.11/site-packages/torch/nn/functional.py:1457\u001b[0m, in \u001b[0;36mrelu\u001b[0;34m(input, inplace)\u001b[0m\n\u001b[1;32m   1455\u001b[0m     result \u001b[39m=\u001b[39m torch\u001b[39m.\u001b[39mrelu_(\u001b[39minput\u001b[39m)\n\u001b[1;32m   1456\u001b[0m \u001b[39melse\u001b[39;00m:\n\u001b[0;32m-> 1457\u001b[0m     result \u001b[39m=\u001b[39m torch\u001b[39m.\u001b[39;49mrelu(\u001b[39minput\u001b[39;49m)\n\u001b[1;32m   1458\u001b[0m \u001b[39mreturn\u001b[39;00m result\n",
      "\u001b[0;31mKeyboardInterrupt\u001b[0m: "
     ]
    },
    {
     "data": {
      "text/plain": [
       "<Figure size 800x550 with 0 Axes>"
      ]
     },
     "metadata": {},
     "output_type": "display_data"
    }
   ],
   "source": [
    "max_itr_epi = []\n",
    "reward_epi = []\n",
    "avg_reward = []\n",
    "itr = 0\n",
    "running_reward = 0\n",
    "\n",
    "criterion = nn.MSELoss()\n",
    "\n",
    "for cnt in count():\n",
    "\n",
    "    itr += 1\n",
    "    obs, info = env.reset()\n",
    "    terminated, truncated = False, False\n",
    "    ep_reward = 0\n",
    "\n",
    "    for i in range(max_itr):\n",
    "        \n",
    "        expected = []\n",
    "        predicted = []\n",
    "        log_prob_arr = []\n",
    "        tderr_arr = []\n",
    "        ## Start of Algo\n",
    "    \n",
    "        action, log_prob = give_action(obs, Actor_model)  # action.item , log_prob from dist.log_prob \n",
    "        new_obs, reward, terminated, truncated, info = env.step(action)\n",
    "        \n",
    "        Qsa = give_Qsa(obs, action, Qsa_model)\n",
    "\n",
    "        reward = reward - 10*abs(new_obs[2]) - 0.1*abs(new_obs[1]) - 0.1*abs(new_obs[3])\n",
    "\n",
    "        if terminated or truncated:\n",
    "            new_Qsa = torch.tensor([0.0], requires_grad= False)\n",
    "        else:\n",
    "            with torch.no_grad():\n",
    "                new_action, _ = give_action(new_obs, Actor_model)\n",
    "                new_Qsa = give_Qsa(new_obs, new_action, Qsa_model)\n",
    "\n",
    "        exp = reward + gamma*new_Qsa\n",
    "        tderr = exp - Qsa \n",
    "\n",
    "        expected.append(exp)\n",
    "        predicted.append(Qsa)\n",
    "        log_prob_arr.append(log_prob)\n",
    "        tderr_arr.append(tderr)\n",
    "        \n",
    "        if i+1 % mini_batch == 0:\n",
    "\n",
    "            expected_state_action_values = torch.tensor(expected, dtype=torch.float)\n",
    "            predicted_state_action_values = torch.tensor(predicted, dtype=torch.float)\n",
    "            log_probs = torch.tensor(log_prob_arr, dtype=torch.float)\n",
    "            tderrs = torch.tensor(tderr_arr, dtype=torch.float)\n",
    "\n",
    "            Critic_loss_T = torch.stack( (expected_state_action_values - predicted_state_action_values)**2 ).sum()\n",
    "            Actor_loss_T = torch.stack( -log_probs*tderrs ).sum()\n",
    "    \n",
    "            Actor_optim.zero_grad()\n",
    "            Actor_loss_T.backward(retain_graph=True)\n",
    "            Actor_optim.step()\n",
    "\n",
    "            Qsa_optim.zero_grad()\n",
    "            Critic_loss_T.backward()\n",
    "            Qsa_optim.step()\n",
    "\n",
    "            expected = []\n",
    "            predicted = []\n",
    "            log_prob_arr = []\n",
    "            tderr_arr = []\n",
    "\n",
    "        obs = new_obs\n",
    "        ep_reward += reward\n",
    "        \n",
    "        if truncated or terminated:\n",
    "            max_itr_epi.append(i)\n",
    "            reward_epi.append(ep_reward)\n",
    "            break\n",
    "    \n",
    "    running_reward = 0.05 * ep_reward + (1-0.05) * running_reward\n",
    "    avg_reward.append(running_reward)\n",
    "\n",
    "\n",
    "    if itr% 100 == 0:\n",
    "        plt.plot(max_itr_epi, label = 'itr/epi')\n",
    "        plt.plot(reward_epi, label = 'rew/epi')\n",
    "        plt.plot(avg_reward, label = 'avg_rew')\n",
    "        plt.pause(0.001)\n",
    "\n",
    "        display.display(plt.gcf())\n",
    "        display.clear_output(wait=True)\n"
   ]
  },
  {
   "cell_type": "code",
   "execution_count": 65,
   "metadata": {},
   "outputs": [
    {
     "data": {
      "text/plain": [
       "[<matplotlib.lines.Line2D at 0x7f3877e33d50>]"
      ]
     },
     "execution_count": 65,
     "metadata": {},
     "output_type": "execute_result"
    },
    {
     "data": {
      "image/png": "[encoded data removed]",
      "text/plain": [
       "<Figure size 800x550 with 1 Axes>"
      ]
     },
     "metadata": {},
     "output_type": "display_data"
    }
   ],
   "source": [
    "plt.plot(max_itr_epi, label = 'itr/epi')\n",
    "plt.plot(reward_epi, label = 'rew/epi')\n",
    "plt.plot(avg_reward, label = 'avg_rew')\n",
    "\n",
    "# Backpropagation\n",
    "# Actor_optim.zero_grad()\n",
    "# Actor_loss_T = torch.stack(Actor_loss).sum()\n",
    "# Actor_loss_T.backward()\n",
    "# Actor_optim.step()\n",
    "\n",
    "# Qsa_optim.zero_grad()\n",
    "# Critic_loss_T = torch.stack(Critic_loss).sum()\n",
    "# Critic_loss_T.backward()\n",
    "# Qsa_optim.step()\n",
    "\n",
    "    # if itr % 10 == 0: \n",
    "#     print(\"Episode {}\\tLast Reward: {:.2f}\\tAverage reward: {:.2f}\".format(\n",
    "#         itr, ep_reward, running_reward\n",
    "#     ))"
   ]
  },
  {
   "cell_type": "code",
   "execution_count": 76,
   "metadata": {},
   "outputs": [
    {
     "name": "stdout",
     "output_type": "stream",
     "text": [
      "Game lasted 27 moves\n"
     ]
    }
   ],
   "source": [
    "# There. we finished\n",
    "# Lets see it in action\n",
    "done = False\n",
    "cnt = 0\n",
    "\n",
    "env = gym.make('CartPole-v1', render_mode=\"human\")\n",
    "\n",
    "observation, info = env.reset()\n",
    "while True:\n",
    "    cnt += 1\n",
    "    env.render()\n",
    "    action, log_prob = give_action(observation, Actor_model)\n",
    "    observation, reward, done, _, _ = env.step(action)\n",
    "    # Lets see how long it lasts until failing\n",
    "    if done:\n",
    "        break\n",
    "print(f\"Game lasted {cnt} moves\")\n",
    "\n",
    "env.close()"
   ]
  },
  {
   "cell_type": "code",
   "execution_count": null,
   "metadata": {},
   "outputs": [],
   "source": []
  },
  {
   "cell_type": "code",
   "execution_count": null,
   "metadata": {},
   "outputs": [],
   "source": [
    "max_itr_epi = []\n",
    "avg_reward = []\n",
    "itr = 0\n",
    "running_reward = 10\n",
    "criterion = nn.MSELoss()\n",
    "for cnt in count():\n",
    "\n",
    "    itr += 1\n",
    "    obs, info = env.reset()\n",
    "    terminated, truncated = False, False\n",
    "\n",
    "    ep_reward = 0\n",
    "    for i in range(max_itr):\n",
    "        Critic_loss_T = 0\n",
    "        Actor_loss_T = 0\n",
    "\n",
    "        Actor_loss = []\n",
    "        Critic_loss = []\n",
    "\n",
    "        action, log_prob = give_action(obs, Actor_model)\n",
    "        Qsa = give_Qsa(obs, action, Qsa_model)\n",
    "\n",
    "        new_obs, reward, terminated, truncated, info = env.step(action)\n",
    "        reward = reward - abs(new_obs[2])\n",
    "\n",
    "        if terminated or truncated:\n",
    "            new_Qsa = torch.tensor([0.0])\n",
    "        else:\n",
    "            with torch.no_grad():\n",
    "                new_action, new_log_prob = give_action(new_obs, Actor_model)\n",
    "                new_Qsa = give_Qsa(new_obs, new_action, Qsa_model)\n",
    "\n",
    "        exp = reward + gamma*new_Qsa\n",
    "        tderr = reward + gamma*new_Qsa - Qsa \n",
    "\n",
    "        Critic_loss_T += (exp - Qsa).pow(2).mean()\n",
    "        Actor_loss_T += -log_prob* tderr.detach() #critic_loss(log_prob, tderr.detach())\n",
    "        \n",
    "        if i % 4 == 0:\n",
    "            Qsa_optim.zero_grad()\n",
    "            Critic_loss_T.backward(retain_graph=True)  #retain_graph=True\n",
    "            Qsa_optim.step()\n",
    "\n",
    "            Actor_optim.zero_grad()\n",
    "            Actor_loss_T.backward()\n",
    "            Actor_optim.step()\n",
    "\n",
    "            Critic_loss_T = []\n",
    "            Actor_loss_T = []\n",
    "\n",
    "        obs = new_obs\n",
    "        ep_reward += reward\n",
    "        \n",
    "        if truncated or terminated:\n",
    "            max_itr_epi.append(ep_reward)\n",
    "            break\n",
    "    \n",
    "    running_reward = 0.05 * ep_reward + (1-0.05) * running_reward\n",
    "    avg_reward.append(running_reward)\n",
    "\n",
    "    # if itr % 10 == 0: \n",
    "    #     print(\"Episode {}\\tLast Reward: {:.2f}\\tAverage reward: {:.2f}\".format(\n",
    "    #         itr, ep_reward, running_reward\n",
    "    #     ))\n",
    "    if itr% 100 == 0:\n",
    "        plt.plot(max_itr_epi)\n",
    "        plt.plot(avg_reward)\n",
    "        plt.pause(0.001)\n",
    "\n",
    "        display.display(plt.gcf())\n",
    "        display.clear_output(wait=True)\n",
    "\n",
    "    # Backpropagation\n",
    "    # Actor_optim.zero_grad()\n",
    "    # Actor_loss_T = torch.stack(Actor_loss).sum()\n",
    "    # Actor_loss_T.backward()\n",
    "    # Actor_optim.step()\n",
    "\n",
    "    # Qsa_optim.zero_grad()\n",
    "    # Critic_loss_T = torch.stack(Critic_loss).sum()\n",
    "    # Critic_loss_T.backward()\n",
    "    # Qsa_optim.step()"
   ]
  }
 ],
 "metadata": {
  "kernelspec": {
   "display_name": "rl",
   "language": "python",
   "name": "python3"
  },
  "language_info": {
   "codemirror_mode": {
    "name": "ipython",
    "version": 3
   },
   "file_extension": ".py",
   "mimetype": "text/x-python",
   "name": "python",
   "nbconvert_exporter": "python",
   "pygments_lexer": "ipython3",
   "version": "3.11.2"
  },
  "orig_nbformat": 4
 },
 "nbformat": 4,
 "nbformat_minor": 2
}
