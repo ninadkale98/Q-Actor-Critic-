{
 "cells": [
  {
   "cell_type": "code",
   "execution_count": 25,
   "metadata": {},
   "outputs": [
    {
     "name": "stdout",
     "output_type": "stream",
     "text": [
      "cuda  in use\n"
     ]
    },
    {
     "name": "stderr",
     "output_type": "stream",
     "text": [
      "/tmp/ipykernel_11437/3926632485.py:25: MatplotlibDeprecationWarning: The seaborn styles shipped by Matplotlib are deprecated since 3.6, as they no longer correspond to the styles shipped by seaborn. However, they will remain available as 'seaborn-v0_8-<style>'. Alternatively, directly use the seaborn API instead.\n",
      "  plt.style.use('seaborn')\n"
     ]
    },
    {
     "data": {
      "text/plain": [
       "<contextlib.ExitStack at 0x7f31f73b0ed0>"
      ]
     },
     "execution_count": 25,
     "metadata": {},
     "output_type": "execute_result"
    }
   ],
   "source": [
    "import gymnasium as gym\n",
    "from gymnasium import spaces\n",
    "\n",
    "# PyTorch imports\n",
    "import torch\n",
    "from torch import nn\n",
    "import torch.optim as optim\n",
    "import torch.nn.functional as F\n",
    "from torch.distributions import Categorical\n",
    "if torch.cuda.is_available():\n",
    "  device = \"cuda\" \n",
    "else:\n",
    "  device = \"cpu\"\n",
    "print(device, \" in use\")\n",
    "torch.autograd.set_detect_anomaly(True)\n",
    "\n",
    "# Utility librarues\n",
    "import base64, io\n",
    "import random\n",
    "import pickle\n",
    "import numpy as np\n",
    "import time\n",
    "import matplotlib\n",
    "import matplotlib.pyplot as plt\n",
    "plt.style.use('seaborn')\n",
    "from itertools import count\n",
    "\n",
    "is_ipython = 'inline' in matplotlib.get_backend()\n",
    "if is_ipython:\n",
    "    from IPython import display\n",
    "\n",
    "plt.ion()"
   ]
  },
  {
   "cell_type": "code",
   "execution_count": 27,
   "metadata": {},
   "outputs": [],
   "source": [
    "env = gym.make('CartPole-v1')\n",
    "\n",
    "obs_space = 4\n",
    "action_space = 2"
   ]
  },
  {
   "cell_type": "markdown",
   "metadata": {},
   "source": []
  },
  {
   "attachments": {},
   "cell_type": "markdown",
   "metadata": {},
   "source": [
    "# Actor Network"
   ]
  },
  {
   "cell_type": "code",
   "execution_count": null,
   "metadata": {},
   "outputs": [],
   "source": []
  },
  {
   "cell_type": "code",
   "execution_count": 28,
   "metadata": {},
   "outputs": [],
   "source": [
    "class Actor(nn.Module):\n",
    "    def __init__(self):\n",
    "        super(Actor, self).__init__()\n",
    "        self.layer1 = nn.Linear(obs_space, 128)\n",
    "        self.hidden = nn.Linear(128, 128)\n",
    "        self.out = nn.Linear(128, action_space) # action probabilities\n",
    "\n",
    "    def forward(self, x):\n",
    "        x = F.relu(self.layer1(x))\n",
    "        #x = F.relu(self.hidden(x))\n",
    "        action_prob = F.softmax(self.out(x), dim=-1)\n",
    "        return action_prob\n"
   ]
  },
  {
   "attachments": {},
   "cell_type": "markdown",
   "metadata": {},
   "source": [
    "# Q Critic Network"
   ]
  },
  {
   "cell_type": "code",
   "execution_count": 29,
   "metadata": {},
   "outputs": [],
   "source": [
    "class Q_Critic(nn.Module):\n",
    "    def __init__(self):\n",
    "        super(Q_Critic, self).__init__()\n",
    "        self.layer1 = nn.Linear(obs_space + action_space, 128)\n",
    "        self.hidden = nn.Linear(128, 64)\n",
    "        self.out = nn.Linear(64, 1) # action probabilities\n",
    "\n",
    "    def forward(self, x):\n",
    "        x = F.relu(self.layer1(x))\n",
    "        x = F.relu(self.hidden(x))\n",
    "        Q_val = F.relu(self.out(x))\n",
    "        return Q_val"
   ]
  },
  {
   "attachments": {},
   "cell_type": "markdown",
   "metadata": {},
   "source": [
    "# Potential ideas\n",
    "\n",
    "normalise input observation before passing to Q network also action space start point as 1 instead of 0\n"
   ]
  },
  {
   "cell_type": "code",
   "execution_count": 30,
   "metadata": {},
   "outputs": [],
   "source": [
    "def give_action(obs, Actor_model): # obs in numpy\n",
    "    obs = torch.from_numpy(obs).float()\n",
    "    probs = Actor_model(obs)\n",
    "    dist = Categorical(probs)\n",
    "    action = dist.sample()\n",
    "    log_prob = dist.log_prob(action)\n",
    "\n",
    "    return action.item(), log_prob\n"
   ]
  },
  {
   "cell_type": "code",
   "execution_count": 31,
   "metadata": {},
   "outputs": [],
   "source": [
    "def give_Qsa(obs, action, Qsa_model): # obs, action both in numpy\n",
    "    action_arr = 1 + np.eye(action_space)[action].reshape(-1) # [2,1] or [1,2]\n",
    "    inp = np.concatenate((obs, action_arr))\n",
    "    inp = np.reshape(inp, -1)\n",
    "    inp = torch.from_numpy(inp).float()\n",
    "    Qval = Qsa_model(inp)\n",
    "    return Qval"
   ]
  },
  {
   "cell_type": "code",
   "execution_count": 32,
   "metadata": {},
   "outputs": [],
   "source": [
    "Actor_model = Actor()\n",
    "Qsa_model = Q_Critic()\n",
    "Actor_lr = 0.0001\n",
    "Actor_optim = optim.SGD(Actor_model.parameters(), lr = Actor_lr)\n",
    "Qsa_lr = 0.001\n",
    "Qsa_optim = optim.SGD(Qsa_model.parameters(), lr = Qsa_lr)"
   ]
  },
  {
   "cell_type": "code",
   "execution_count": 34,
   "metadata": {},
   "outputs": [],
   "source": [
    "max_itr = 1000\n",
    "gamma = 0.6\n",
    "episodes = 500\n",
    "mini_batch = 4\n",
    "\n"
   ]
  },
  {
   "cell_type": "code",
   "execution_count": 35,
   "metadata": {},
   "outputs": [
    {
     "name": "stderr",
     "output_type": "stream",
     "text": [
      "/home/hri/miniconda3/envs/rl/lib/python3.11/site-packages/torch/autograd/__init__.py:200: UserWarning: Error detected in ReluBackward0. Traceback of forward call that caused the error:\n",
      "  File \"<frozen runpy>\", line 198, in _run_module_as_main\n",
      "  File \"<frozen runpy>\", line 88, in _run_code\n",
      "  File \"/home/hri/miniconda3/envs/rl/lib/python3.11/site-packages/ipykernel_launcher.py\", line 17, in <module>\n",
      "    app.launch_new_instance()\n",
      "  File \"/home/hri/miniconda3/envs/rl/lib/python3.11/site-packages/traitlets/config/application.py\", line 1043, in launch_instance\n",
      "    app.start()\n",
      "  File \"/home/hri/miniconda3/envs/rl/lib/python3.11/site-packages/ipykernel/kernelapp.py\", line 725, in start\n",
      "    self.io_loop.start()\n",
      "  File \"/home/hri/miniconda3/envs/rl/lib/python3.11/site-packages/tornado/platform/asyncio.py\", line 215, in start\n",
      "    self.asyncio_loop.run_forever()\n",
      "  File \"/home/hri/miniconda3/envs/rl/lib/python3.11/asyncio/base_events.py\", line 607, in run_forever\n",
      "    self._run_once()\n",
      "  File \"/home/hri/miniconda3/envs/rl/lib/python3.11/asyncio/base_events.py\", line 1922, in _run_once\n",
      "    handle._run()\n",
      "  File \"/home/hri/miniconda3/envs/rl/lib/python3.11/asyncio/events.py\", line 80, in _run\n",
      "    self._context.run(self._callback, *self._args)\n",
      "  File \"/home/hri/miniconda3/envs/rl/lib/python3.11/site-packages/ipykernel/kernelbase.py\", line 513, in dispatch_queue\n",
      "    await self.process_one()\n",
      "  File \"/home/hri/miniconda3/envs/rl/lib/python3.11/site-packages/ipykernel/kernelbase.py\", line 502, in process_one\n",
      "    await dispatch(*args)\n",
      "  File \"/home/hri/miniconda3/envs/rl/lib/python3.11/site-packages/ipykernel/kernelbase.py\", line 409, in dispatch_shell\n",
      "    await result\n",
      "  File \"/home/hri/miniconda3/envs/rl/lib/python3.11/site-packages/ipykernel/kernelbase.py\", line 729, in execute_request\n",
      "    reply_content = await reply_content\n",
      "  File \"/home/hri/miniconda3/envs/rl/lib/python3.11/site-packages/ipykernel/ipkernel.py\", line 422, in do_execute\n",
      "    res = shell.run_cell(\n",
      "  File \"/home/hri/miniconda3/envs/rl/lib/python3.11/site-packages/ipykernel/zmqshell.py\", line 540, in run_cell\n",
      "    return super().run_cell(*args, **kwargs)\n",
      "  File \"/home/hri/miniconda3/envs/rl/lib/python3.11/site-packages/IPython/core/interactiveshell.py\", line 3006, in run_cell\n",
      "    result = self._run_cell(\n",
      "  File \"/home/hri/miniconda3/envs/rl/lib/python3.11/site-packages/IPython/core/interactiveshell.py\", line 3061, in _run_cell\n",
      "    result = runner(coro)\n",
      "  File \"/home/hri/miniconda3/envs/rl/lib/python3.11/site-packages/IPython/core/async_helpers.py\", line 129, in _pseudo_sync_runner\n",
      "    coro.send(None)\n",
      "  File \"/home/hri/miniconda3/envs/rl/lib/python3.11/site-packages/IPython/core/interactiveshell.py\", line 3266, in run_cell_async\n",
      "    has_raised = await self.run_ast_nodes(code_ast.body, cell_name,\n",
      "  File \"/home/hri/miniconda3/envs/rl/lib/python3.11/site-packages/IPython/core/interactiveshell.py\", line 3445, in run_ast_nodes\n",
      "    if await self.run_code(code, result, async_=asy):\n",
      "  File \"/home/hri/miniconda3/envs/rl/lib/python3.11/site-packages/IPython/core/interactiveshell.py\", line 3505, in run_code\n",
      "    exec(code_obj, self.user_global_ns, self.user_ns)\n",
      "  File \"/tmp/ipykernel_11437/3093321245.py\", line 20, in <module>\n",
      "    Qsa = give_Qsa(obs, action, Qsa_model)\n",
      "  File \"/tmp/ipykernel_11437/2015420252.py\", line 6, in give_Qsa\n",
      "    Qval = Qsa_model(inp)\n",
      "  File \"/home/hri/miniconda3/envs/rl/lib/python3.11/site-packages/torch/nn/modules/module.py\", line 1501, in _call_impl\n",
      "    return forward_call(*args, **kwargs)\n",
      "  File \"/tmp/ipykernel_11437/256515536.py\", line 11, in forward\n",
      "    Q_val = F.relu(self.out(x))\n",
      "  File \"/home/hri/miniconda3/envs/rl/lib/python3.11/site-packages/torch/nn/functional.py\", line 1457, in relu\n",
      "    result = torch.relu(input)\n",
      " (Triggered internally at ../torch/csrc/autograd/python_anomaly_mode.cpp:114.)\n",
      "  Variable._execution_engine.run_backward(  # Calls into the C++ engine to run the backward pass\n"
     ]
    },
    {
     "ename": "RuntimeError",
     "evalue": "Trying to backward through the graph a second time (or directly access saved tensors after they have already been freed). Saved intermediate values of the graph are freed when you call .backward() or autograd.grad(). Specify retain_graph=True if you need to backward through the graph a second time or if you need to access saved tensors after calling backward.",
     "output_type": "error",
     "traceback": [
      "\u001b[0;31m---------------------------------------------------------------------------\u001b[0m",
      "\u001b[0;31mRuntimeError\u001b[0m                              Traceback (most recent call last)",
      "Cell \u001b[0;32mIn[35], line 53\u001b[0m\n\u001b[1;32m     51\u001b[0m Qsa_optim\u001b[39m.\u001b[39mzero_grad()\n\u001b[1;32m     52\u001b[0m Critic_loss_T \u001b[39m=\u001b[39m torch\u001b[39m.\u001b[39mstack(Critic_loss)\u001b[39m.\u001b[39msum()\u001b[39m.\u001b[39mrequires_grad_(\u001b[39mTrue\u001b[39;00m)\n\u001b[0;32m---> 53\u001b[0m Critic_loss_T\u001b[39m.\u001b[39;49mbackward()\n\u001b[1;32m     54\u001b[0m Qsa_optim\u001b[39m.\u001b[39mstep()\n\u001b[1;32m     56\u001b[0m Actor_loss \u001b[39m=\u001b[39m []\n",
      "File \u001b[0;32m~/miniconda3/envs/rl/lib/python3.11/site-packages/torch/_tensor.py:487\u001b[0m, in \u001b[0;36mTensor.backward\u001b[0;34m(self, gradient, retain_graph, create_graph, inputs)\u001b[0m\n\u001b[1;32m    477\u001b[0m \u001b[39mif\u001b[39;00m has_torch_function_unary(\u001b[39mself\u001b[39m):\n\u001b[1;32m    478\u001b[0m     \u001b[39mreturn\u001b[39;00m handle_torch_function(\n\u001b[1;32m    479\u001b[0m         Tensor\u001b[39m.\u001b[39mbackward,\n\u001b[1;32m    480\u001b[0m         (\u001b[39mself\u001b[39m,),\n\u001b[0;32m   (...)\u001b[0m\n\u001b[1;32m    485\u001b[0m         inputs\u001b[39m=\u001b[39minputs,\n\u001b[1;32m    486\u001b[0m     )\n\u001b[0;32m--> 487\u001b[0m torch\u001b[39m.\u001b[39;49mautograd\u001b[39m.\u001b[39;49mbackward(\n\u001b[1;32m    488\u001b[0m     \u001b[39mself\u001b[39;49m, gradient, retain_graph, create_graph, inputs\u001b[39m=\u001b[39;49minputs\n\u001b[1;32m    489\u001b[0m )\n",
      "File \u001b[0;32m~/miniconda3/envs/rl/lib/python3.11/site-packages/torch/autograd/__init__.py:200\u001b[0m, in \u001b[0;36mbackward\u001b[0;34m(tensors, grad_tensors, retain_graph, create_graph, grad_variables, inputs)\u001b[0m\n\u001b[1;32m    195\u001b[0m     retain_graph \u001b[39m=\u001b[39m create_graph\n\u001b[1;32m    197\u001b[0m \u001b[39m# The reason we repeat same the comment below is that\u001b[39;00m\n\u001b[1;32m    198\u001b[0m \u001b[39m# some Python versions print out the first line of a multi-line function\u001b[39;00m\n\u001b[1;32m    199\u001b[0m \u001b[39m# calls in the traceback and some print out the last line\u001b[39;00m\n\u001b[0;32m--> 200\u001b[0m Variable\u001b[39m.\u001b[39;49m_execution_engine\u001b[39m.\u001b[39;49mrun_backward(  \u001b[39m# Calls into the C++ engine to run the backward pass\u001b[39;49;00m\n\u001b[1;32m    201\u001b[0m     tensors, grad_tensors_, retain_graph, create_graph, inputs,\n\u001b[1;32m    202\u001b[0m     allow_unreachable\u001b[39m=\u001b[39;49m\u001b[39mTrue\u001b[39;49;00m, accumulate_grad\u001b[39m=\u001b[39;49m\u001b[39mTrue\u001b[39;49;00m)\n",
      "\u001b[0;31mRuntimeError\u001b[0m: Trying to backward through the graph a second time (or directly access saved tensors after they have already been freed). Saved intermediate values of the graph are freed when you call .backward() or autograd.grad(). Specify retain_graph=True if you need to backward through the graph a second time or if you need to access saved tensors after calling backward."
     ]
    }
   ],
   "source": [
    "max_itr_epi = []\n",
    "itr = 0\n",
    "running_reward = 10\n",
    "\n",
    "for cnt in count():\n",
    "    update_policy = False\n",
    "\n",
    "    itr += 1\n",
    "    obs, info = env.reset()\n",
    "    terminated, truncated = False, False\n",
    "\n",
    "    # for one episode\n",
    "    Actor_loss = []\n",
    "    Critic_loss = []\n",
    "    ep_reward = 0\n",
    "    if cnt% 32 == 0:\n",
    "        update_policy = ~update_policy\n",
    "    for i in range(max_itr):\n",
    "        action, log_prob = give_action(obs, Actor_model)\n",
    "        Qsa = give_Qsa(obs, action, Qsa_model)\n",
    "\n",
    "        new_obs, reward, terminated, truncated, info = env.step(action)\n",
    "\n",
    "        new_action, new_log_prob = give_action(new_obs, Actor_model)\n",
    "\n",
    "        new_Qsa = give_Qsa(new_obs, new_action, Qsa_model)\n",
    "\n",
    "        exp = reward + gamma*new_Qsa\n",
    "\n",
    "        tderr = reward + gamma*new_Qsa - Qsa\n",
    "\n",
    "        # Update actor\n",
    "        if update_policy:\n",
    "            Actor_optim.zero_grad()\n",
    "            err = - log_prob* Qsa #tderr.detach()#.requires_grad_(False)\n",
    "            Actor_loss_T = err\n",
    "            Actor_loss_T.backward()\n",
    "            Actor_optim.step()\n",
    "\n",
    "        #Actor_loss.append(   log_prob* tderr.detach()  )\n",
    "        Critic_loss.append( F.mse_loss(Qsa, exp) )\n",
    "\n",
    "        ep_reward += reward\n",
    "        \n",
    "        if (i+1)%mini_batch == 0:\n",
    "            # Actor_optim.zero_grad()\n",
    "            # Actor_loss_T = torch.stack(Actor_loss).sum()\n",
    "            # Actor_loss_T.backward()\n",
    "            # Actor_optim.step()\n",
    "\n",
    "            Qsa_optim.zero_grad()\n",
    "            Critic_loss_T = torch.stack(Critic_loss).sum().requires_grad_(True)\n",
    "            Critic_loss_T.backward()\n",
    "            Qsa_optim.step()\n",
    "\n",
    "            Actor_loss = []\n",
    "            Critic_loss = []\n",
    "\n",
    "        obs = new_obs\n",
    "        \n",
    "        if truncated or terminated:\n",
    "            max_itr_epi.append(i)\n",
    "            break\n",
    "\n",
    "    running_reward = 0.05 * ep_reward + (1-0.05) * running_reward\n",
    "\n",
    "    if itr % 10 == 0: # We will print some things out\n",
    "        print(\"Episode {}\\tLast Reward: {:.2f}\\tAverage reward: {:.2f}\".format(\n",
    "            itr, ep_reward, running_reward\n",
    "        ))\n",
    "\n",
    "\n",
    "    \n",
    "    # maybe just update critic here and not actor\n",
    "\n",
    "\n",
    "    #Backpropagation\n",
    "    # Actor_optim.zero_grad()\n",
    "    # Actor_loss_T = torch.stack(Actor_loss).sum()\n",
    "    # Actor_loss_T.backward()\n",
    "    # Actor_optim.step()\n",
    "\n",
    "    # Qsa_optim.zero_grad()\n",
    "    # Critic_loss_T = torch.stack(Critic_loss).sum()\n",
    "    # Critic_loss_T.backward()\n",
    "    # Qsa_optim.step()"
   ]
  },
  {
   "cell_type": "code",
   "execution_count": 111,
   "metadata": {},
   "outputs": [
    {
     "data": {
      "text/plain": [
       "[<matplotlib.lines.Line2D at 0x7f9f057e4050>]"
      ]
     },
     "execution_count": 111,
     "metadata": {},
     "output_type": "execute_result"
    },
    {
     "data": {
      "image/png": "[encoded data removed]",
      "text/plain": [
       "<Figure size 800x550 with 1 Axes>"
      ]
     },
     "metadata": {},
     "output_type": "display_data"
    }
   ],
   "source": [
    "plt.plot(max_itr_epi, \"*\")"
   ]
  },
  {
   "cell_type": "code",
   "execution_count": 76,
   "metadata": {},
   "outputs": [
    {
     "name": "stdout",
     "output_type": "stream",
     "text": [
      "Game lasted 27 moves\n"
     ]
    }
   ],
   "source": [
    "# There. we finished\n",
    "# Lets see it in action\n",
    "done = False\n",
    "cnt = 0\n",
    "\n",
    "env = gym.make('CartPole-v1', render_mode=\"human\")\n",
    "\n",
    "observation, info = env.reset()\n",
    "while True:\n",
    "    cnt += 1\n",
    "    env.render()\n",
    "    action, log_prob = give_action(observation, Actor_model)\n",
    "    observation, reward, done, _, _ = env.step(action)\n",
    "    # Lets see how long it lasts until failing\n",
    "    if done:\n",
    "        break\n",
    "print(f\"Game lasted {cnt} moves\")\n",
    "\n",
    "env.close()"
   ]
  },
  {
   "cell_type": "code",
   "execution_count": null,
   "metadata": {},
   "outputs": [],
   "source": []
  },
  {
   "cell_type": "code",
   "execution_count": null,
   "metadata": {},
   "outputs": [],
   "source": []
  }
 ],
 "metadata": {
  "kernelspec": {
   "display_name": "rl",
   "language": "python",
   "name": "python3"
  },
  "language_info": {
   "codemirror_mode": {
    "name": "ipython",
    "version": 3
   },
   "file_extension": ".py",
   "mimetype": "text/x-python",
   "name": "python",
   "nbconvert_exporter": "python",
   "pygments_lexer": "ipython3",
   "version": "3.11.2"
  },
  "orig_nbformat": 4
 },
 "nbformat": 4,
 "nbformat_minor": 2
}
