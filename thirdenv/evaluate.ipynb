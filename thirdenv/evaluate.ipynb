{
 "cells": [
  {
   "cell_type": "code",
   "execution_count": 22,
   "metadata": {},
   "outputs": [
    {
     "name": "stdout",
     "output_type": "stream",
     "text": [
      "cuda  in use\n"
     ]
    }
   ],
   "source": [
    "import gymnasium as gym\n",
    "from gymnasium import spaces\n",
    "\n",
    "# PyTorch imports\n",
    "import torch\n",
    "from torch import nn\n",
    "import torch.optim as optim\n",
    "import torch.nn.functional as F\n",
    "from torch.distributions import Categorical\n",
    "if torch.cuda.is_available():\n",
    "  device = \"cuda\" \n",
    "else:\n",
    "  device = \"cpu\"\n",
    "device_ = torch.device(device)\n",
    "print(device, \" in use\")\n",
    "torch.autograd.set_detect_anomaly(True)\n",
    "\n",
    "# Utility librarues\n",
    "import base64, io\n",
    "import random\n",
    "import pickle\n",
    "import numpy as np\n",
    "import time\n",
    "import matplotlib\n",
    "import matplotlib.pyplot as plt\n",
    "#plt.style.use('seaborn')\n",
    "from itertools import count\n",
    "\n",
    "is_ipython = 'inline' in matplotlib.get_backend()\n",
    "if is_ipython:\n",
    "    from IPython import display\n",
    "\n",
    "plt.ion()\n",
    "\n",
    "torch.cuda.get_device_name(0)\n",
    "\n",
    "obs_space = 11\n",
    "action_space = 1"
   ]
  },
  {
   "cell_type": "code",
   "execution_count": 23,
   "metadata": {},
   "outputs": [],
   "source": [
    "class Actor_net(nn.Module):\n",
    "    def __init__(self):\n",
    "        super(Actor_net, self).__init__()\n",
    "        self.layer1 = nn.Linear(obs_space, 128)\n",
    "        self.hidden = nn.Linear(128, 128)\n",
    "        self.out = nn.Linear(128, action_space) # action probabilities\n",
    "        \n",
    "\n",
    "    def forward(self, x):\n",
    "        x = F.relu(self.layer1(x))\n",
    "        x = F.relu(self.hidden(x))\n",
    "        action_prob = torch.tanh(self.out(x)) # -1 to 1\n",
    "        return action_prob"
   ]
  },
  {
   "cell_type": "code",
   "execution_count": 24,
   "metadata": {},
   "outputs": [],
   "source": [
    "class Critic_net(nn.Module):\n",
    "    def __init__(self):\n",
    "        super(Critic_net, self).__init__()\n",
    "        self.layer1 = nn.Linear(obs_space + 1, 128)\n",
    "        self.hidden = nn.Linear(128, 128)\n",
    "        self.out = nn.Linear(128, 1) # action probabilities\n",
    "\n",
    "    def forward(self, x):\n",
    "        x = F.relu(self.layer1(x))\n",
    "        x = F.relu(self.hidden(x))\n",
    "        Q_val = self.out(x)\n",
    "        return Q_val"
   ]
  },
  {
   "cell_type": "code",
   "execution_count": 25,
   "metadata": {},
   "outputs": [],
   "source": [
    "Actor = Actor_net().to(device)\n",
    "Critic = Critic_net().to(device)\n",
    "\n",
    "Actor_lr = 0.0001\n",
    "Actor_optim = optim.SGD(Actor.parameters(), lr = Actor_lr)\n",
    "Qsa_lr = 0.0001\n",
    "Critic_optim = optim.SGD(Critic.parameters(), lr = Qsa_lr)"
   ]
  },
  {
   "cell_type": "code",
   "execution_count": 26,
   "metadata": {},
   "outputs": [
    {
     "data": {
      "text/plain": [
       "<All keys matched successfully>"
      ]
     },
     "execution_count": 26,
     "metadata": {},
     "output_type": "execute_result"
    }
   ],
   "source": [
    "PATH = \"IP_Actor_QAC.pth\"\n",
    "Actor.load_state_dict(torch.load(PATH))"
   ]
  },
  {
   "cell_type": "code",
   "execution_count": 27,
   "metadata": {},
   "outputs": [],
   "source": [
    "def load():\n",
    "    PATH = \"IP_Actor_QAC.pth\"\n",
    "    Actor.load_state_dict(torch.load(PATH))"
   ]
  },
  {
   "cell_type": "code",
   "execution_count": 34,
   "metadata": {},
   "outputs": [
    {
     "name": "stderr",
     "output_type": "stream",
     "text": [
      "Exception ignored in: <function WindowViewer.__del__ at 0x7f21dd630540>\n",
      "Traceback (most recent call last):\n",
      "  File \"/home/hri/miniconda3/envs/rl/lib/python3.11/site-packages/gymnasium/envs/mujoco/mujoco_rendering.py\", line 337, in __del__\n",
      "    self.free()\n",
      "  File \"/home/hri/miniconda3/envs/rl/lib/python3.11/site-packages/gymnasium/envs/mujoco/mujoco_rendering.py\", line 332, in free\n",
      "    glfw.destroy_window(self.window)\n",
      "  File \"/home/hri/miniconda3/envs/rl/lib/python3.11/site-packages/glfw/__init__.py\", line 1279, in destroy_window\n",
      "    window_addr = ctypes.cast(ctypes.pointer(window),\n",
      "                              ^^^^^^^^^^^^^^^^^^^^^^\n",
      "TypeError: _type_ must have storage info\n"
     ]
    }
   ],
   "source": [
    "import time\n",
    "# There. we finished\n",
    "# Lets see it in action\n",
    "done = False\n",
    "cnt = 0\n",
    "\n",
    "env = gym.make('InvertedDoublePendulum-v4', render_mode=\"human\")\n",
    "\n",
    "observation, info = env.reset()\n",
    "\n",
    "reward_arr_eval = []\n",
    "\n",
    "while True:\n",
    "    load()\n",
    "    observation, info = env.reset()\n",
    "    done = False\n",
    "    cnt = 0\n",
    "    reward_ = 0\n",
    "    itr = 0\n",
    "    while True:\n",
    "        itr += 1\n",
    "        if itr == 1000:\n",
    "            break\n",
    "        #env.render()\n",
    "        a = Actor(torch.tensor(observation).float().to(device))\n",
    "        observation, reward, done, _, _ = env.step(a.detach().to(\"cpu\").numpy())\n",
    "        # Lets see how long it lasts until failing\n",
    "        reward_ += reward\n",
    "        if done:\n",
    "            break\n",
    "    #reward_arr_eval.append(reward_)\n",
    "    #print(f\"Game lasted {cnt} moves\")\n",
    "\n",
    "    time.sleep(10)\n",
    "    "
   ]
  },
  {
   "cell_type": "code",
   "execution_count": 30,
   "metadata": {},
   "outputs": [
    {
     "name": "stderr",
     "output_type": "stream",
     "text": [
      "/home/hri/miniconda3/envs/rl/lib/python3.11/site-packages/glfw/__init__.py:916: GLFWError: (65537) b'The GLFW library is not initialized'\n",
      "  warnings.warn(message, GLFWError)\n",
      "Exception ignored in: <function WindowViewer.__del__ at 0x7f21dd630540>\n",
      "Traceback (most recent call last):\n",
      "  File \"/home/hri/miniconda3/envs/rl/lib/python3.11/site-packages/gymnasium/envs/mujoco/mujoco_rendering.py\", line 337, in __del__\n",
      "  File \"/home/hri/miniconda3/envs/rl/lib/python3.11/site-packages/gymnasium/envs/mujoco/mujoco_rendering.py\", line 332, in free\n",
      "  File \"/home/hri/miniconda3/envs/rl/lib/python3.11/site-packages/glfw/__init__.py\", line 1279, in destroy_window\n",
      "TypeError: _type_ must have storage info\n"
     ]
    },
    {
     "ename": "AttributeError",
     "evalue": "Unexpected mode: None, expected modes: human, rgb_array, or depth_array",
     "output_type": "error",
     "traceback": [
      "\u001b[0;31m---------------------------------------------------------------------------\u001b[0m",
      "\u001b[0;31mAttributeError\u001b[0m                            Traceback (most recent call last)",
      "Cell \u001b[0;32mIn[30], line 24\u001b[0m\n\u001b[1;32m     22\u001b[0m \u001b[39mif\u001b[39;00m itr \u001b[39m==\u001b[39m \u001b[39m1000\u001b[39m:\n\u001b[1;32m     23\u001b[0m     \u001b[39mbreak\u001b[39;00m\n\u001b[0;32m---> 24\u001b[0m env\u001b[39m.\u001b[39;49mrender()\n\u001b[1;32m     25\u001b[0m a \u001b[39m=\u001b[39m Actor(torch\u001b[39m.\u001b[39mtensor(observation)\u001b[39m.\u001b[39mfloat()\u001b[39m.\u001b[39mto(device))\n\u001b[1;32m     26\u001b[0m observation, reward, done, _, _ \u001b[39m=\u001b[39m env\u001b[39m.\u001b[39mstep(a\u001b[39m.\u001b[39mdetach()\u001b[39m.\u001b[39mto(\u001b[39m\"\u001b[39m\u001b[39mcpu\u001b[39m\u001b[39m\"\u001b[39m)\u001b[39m.\u001b[39mnumpy())\n",
      "File \u001b[0;32m~/miniconda3/envs/rl/lib/python3.11/site-packages/gymnasium/core.py:371\u001b[0m, in \u001b[0;36mWrapper.render\u001b[0;34m(self)\u001b[0m\n\u001b[1;32m    369\u001b[0m \u001b[39mdef\u001b[39;00m \u001b[39mrender\u001b[39m(\u001b[39mself\u001b[39m) \u001b[39m-\u001b[39m\u001b[39m>\u001b[39m RenderFrame \u001b[39m|\u001b[39m \u001b[39mlist\u001b[39m[RenderFrame] \u001b[39m|\u001b[39m \u001b[39mNone\u001b[39;00m:\n\u001b[1;32m    370\u001b[0m \u001b[39m    \u001b[39m\u001b[39m\"\"\"Uses the :meth:`render` of the :attr:`env` that can be overwritten to change the returned data.\"\"\"\u001b[39;00m\n\u001b[0;32m--> 371\u001b[0m     \u001b[39mreturn\u001b[39;00m \u001b[39mself\u001b[39;49m\u001b[39m.\u001b[39;49menv\u001b[39m.\u001b[39;49mrender()\n",
      "File \u001b[0;32m~/miniconda3/envs/rl/lib/python3.11/site-packages/gymnasium/wrappers/order_enforcing.py:52\u001b[0m, in \u001b[0;36mOrderEnforcing.render\u001b[0;34m(self, *args, **kwargs)\u001b[0m\n\u001b[1;32m     47\u001b[0m \u001b[39mif\u001b[39;00m \u001b[39mnot\u001b[39;00m \u001b[39mself\u001b[39m\u001b[39m.\u001b[39m_disable_render_order_enforcing \u001b[39mand\u001b[39;00m \u001b[39mnot\u001b[39;00m \u001b[39mself\u001b[39m\u001b[39m.\u001b[39m_has_reset:\n\u001b[1;32m     48\u001b[0m     \u001b[39mraise\u001b[39;00m ResetNeeded(\n\u001b[1;32m     49\u001b[0m         \u001b[39m\"\u001b[39m\u001b[39mCannot call `env.render()` before calling `env.reset()`, if this is a intended action, \u001b[39m\u001b[39m\"\u001b[39m\n\u001b[1;32m     50\u001b[0m         \u001b[39m\"\u001b[39m\u001b[39mset `disable_render_order_enforcing=True` on the OrderEnforcer wrapper.\u001b[39m\u001b[39m\"\u001b[39m\n\u001b[1;32m     51\u001b[0m     )\n\u001b[0;32m---> 52\u001b[0m \u001b[39mreturn\u001b[39;00m \u001b[39mself\u001b[39;49m\u001b[39m.\u001b[39;49menv\u001b[39m.\u001b[39;49mrender(\u001b[39m*\u001b[39;49margs, \u001b[39m*\u001b[39;49m\u001b[39m*\u001b[39;49mkwargs)\n",
      "File \u001b[0;32m~/miniconda3/envs/rl/lib/python3.11/site-packages/gymnasium/wrappers/env_checker.py:53\u001b[0m, in \u001b[0;36mPassiveEnvChecker.render\u001b[0;34m(self, *args, **kwargs)\u001b[0m\n\u001b[1;32m     51\u001b[0m \u001b[39mif\u001b[39;00m \u001b[39mself\u001b[39m\u001b[39m.\u001b[39mchecked_render \u001b[39mis\u001b[39;00m \u001b[39mFalse\u001b[39;00m:\n\u001b[1;32m     52\u001b[0m     \u001b[39mself\u001b[39m\u001b[39m.\u001b[39mchecked_render \u001b[39m=\u001b[39m \u001b[39mTrue\u001b[39;00m\n\u001b[0;32m---> 53\u001b[0m     \u001b[39mreturn\u001b[39;00m env_render_passive_checker(\u001b[39mself\u001b[39;49m\u001b[39m.\u001b[39;49menv, \u001b[39m*\u001b[39;49margs, \u001b[39m*\u001b[39;49m\u001b[39m*\u001b[39;49mkwargs)\n\u001b[1;32m     54\u001b[0m \u001b[39melse\u001b[39;00m:\n\u001b[1;32m     55\u001b[0m     \u001b[39mreturn\u001b[39;00m \u001b[39mself\u001b[39m\u001b[39m.\u001b[39menv\u001b[39m.\u001b[39mrender(\u001b[39m*\u001b[39margs, \u001b[39m*\u001b[39m\u001b[39m*\u001b[39mkwargs)\n",
      "File \u001b[0;32m~/miniconda3/envs/rl/lib/python3.11/site-packages/gymnasium/utils/passive_env_checker.py:384\u001b[0m, in \u001b[0;36menv_render_passive_checker\u001b[0;34m(env)\u001b[0m\n\u001b[1;32m    378\u001b[0m     \u001b[39melse\u001b[39;00m:\n\u001b[1;32m    379\u001b[0m         \u001b[39massert\u001b[39;00m env\u001b[39m.\u001b[39mrender_mode \u001b[39mis\u001b[39;00m \u001b[39mNone\u001b[39;00m \u001b[39mor\u001b[39;00m env\u001b[39m.\u001b[39mrender_mode \u001b[39min\u001b[39;00m render_modes, (\n\u001b[1;32m    380\u001b[0m             \u001b[39m\"\u001b[39m\u001b[39mThe environment was initialized successfully however with an unsupported render mode. \u001b[39m\u001b[39m\"\u001b[39m\n\u001b[1;32m    381\u001b[0m             \u001b[39mf\u001b[39m\u001b[39m\"\u001b[39m\u001b[39mRender mode: \u001b[39m\u001b[39m{\u001b[39;00menv\u001b[39m.\u001b[39mrender_mode\u001b[39m}\u001b[39;00m\u001b[39m, modes: \u001b[39m\u001b[39m{\u001b[39;00mrender_modes\u001b[39m}\u001b[39;00m\u001b[39m\"\u001b[39m\n\u001b[1;32m    382\u001b[0m         )\n\u001b[0;32m--> 384\u001b[0m result \u001b[39m=\u001b[39m env\u001b[39m.\u001b[39;49mrender()\n\u001b[1;32m    385\u001b[0m \u001b[39mif\u001b[39;00m env\u001b[39m.\u001b[39mrender_mode \u001b[39mis\u001b[39;00m \u001b[39mnot\u001b[39;00m \u001b[39mNone\u001b[39;00m:\n\u001b[1;32m    386\u001b[0m     _check_render_return(env\u001b[39m.\u001b[39mrender_mode, result)\n",
      "File \u001b[0;32m~/miniconda3/envs/rl/lib/python3.11/site-packages/gymnasium/envs/mujoco/mujoco_env.py:379\u001b[0m, in \u001b[0;36mMujocoEnv.render\u001b[0;34m(self)\u001b[0m\n\u001b[1;32m    378\u001b[0m \u001b[39mdef\u001b[39;00m \u001b[39mrender\u001b[39m(\u001b[39mself\u001b[39m):\n\u001b[0;32m--> 379\u001b[0m     \u001b[39mreturn\u001b[39;00m \u001b[39mself\u001b[39;49m\u001b[39m.\u001b[39;49mmujoco_renderer\u001b[39m.\u001b[39;49mrender(\n\u001b[1;32m    380\u001b[0m         \u001b[39mself\u001b[39;49m\u001b[39m.\u001b[39;49mrender_mode, \u001b[39mself\u001b[39;49m\u001b[39m.\u001b[39;49mcamera_id, \u001b[39mself\u001b[39;49m\u001b[39m.\u001b[39;49mcamera_name\n\u001b[1;32m    381\u001b[0m     )\n",
      "File \u001b[0;32m~/miniconda3/envs/rl/lib/python3.11/site-packages/gymnasium/envs/mujoco/mujoco_rendering.py:647\u001b[0m, in \u001b[0;36mMujocoRenderer.render\u001b[0;34m(self, render_mode, camera_id, camera_name)\u001b[0m\n\u001b[1;32m    630\u001b[0m \u001b[39mdef\u001b[39;00m \u001b[39mrender\u001b[39m(\n\u001b[1;32m    631\u001b[0m     \u001b[39mself\u001b[39m,\n\u001b[1;32m    632\u001b[0m     render_mode: \u001b[39mstr\u001b[39m,\n\u001b[1;32m    633\u001b[0m     camera_id: Optional[\u001b[39mint\u001b[39m] \u001b[39m=\u001b[39m \u001b[39mNone\u001b[39;00m,\n\u001b[1;32m    634\u001b[0m     camera_name: Optional[\u001b[39mstr\u001b[39m] \u001b[39m=\u001b[39m \u001b[39mNone\u001b[39;00m,\n\u001b[1;32m    635\u001b[0m ):\n\u001b[1;32m    636\u001b[0m \u001b[39m    \u001b[39m\u001b[39m\"\"\"Renders a frame of the simulation in a specific format and camera view.\u001b[39;00m\n\u001b[1;32m    637\u001b[0m \n\u001b[1;32m    638\u001b[0m \u001b[39m    Args:\u001b[39;00m\n\u001b[0;32m   (...)\u001b[0m\n\u001b[1;32m    644\u001b[0m \u001b[39m        If render_mode is \"rgb_array\" or \"depth_arra\" it returns a numpy array in the specified format. \"human\" render mode does not return anything.\u001b[39;00m\n\u001b[1;32m    645\u001b[0m \u001b[39m    \"\"\"\u001b[39;00m\n\u001b[0;32m--> 647\u001b[0m     viewer \u001b[39m=\u001b[39m \u001b[39mself\u001b[39;49m\u001b[39m.\u001b[39;49m_get_viewer(render_mode\u001b[39m=\u001b[39;49mrender_mode)\n\u001b[1;32m    649\u001b[0m     \u001b[39mif\u001b[39;00m render_mode \u001b[39min\u001b[39;00m {\n\u001b[1;32m    650\u001b[0m         \u001b[39m\"\u001b[39m\u001b[39mrgb_array\u001b[39m\u001b[39m\"\u001b[39m,\n\u001b[1;32m    651\u001b[0m         \u001b[39m\"\u001b[39m\u001b[39mdepth_array\u001b[39m\u001b[39m\"\u001b[39m,\n\u001b[1;32m    652\u001b[0m     }:\n\u001b[1;32m    653\u001b[0m         \u001b[39mif\u001b[39;00m camera_id \u001b[39mis\u001b[39;00m \u001b[39mnot\u001b[39;00m \u001b[39mNone\u001b[39;00m \u001b[39mand\u001b[39;00m camera_name \u001b[39mis\u001b[39;00m \u001b[39mnot\u001b[39;00m \u001b[39mNone\u001b[39;00m:\n",
      "File \u001b[0;32m~/miniconda3/envs/rl/lib/python3.11/site-packages/gymnasium/envs/mujoco/mujoco_rendering.py:689\u001b[0m, in \u001b[0;36mMujocoRenderer._get_viewer\u001b[0;34m(self, render_mode)\u001b[0m\n\u001b[1;32m    687\u001b[0m     \u001b[39mself\u001b[39m\u001b[39m.\u001b[39mviewer \u001b[39m=\u001b[39m OffScreenViewer(\u001b[39mself\u001b[39m\u001b[39m.\u001b[39mmodel, \u001b[39mself\u001b[39m\u001b[39m.\u001b[39mdata)\n\u001b[1;32m    688\u001b[0m \u001b[39melse\u001b[39;00m:\n\u001b[0;32m--> 689\u001b[0m     \u001b[39mraise\u001b[39;00m \u001b[39mAttributeError\u001b[39;00m(\n\u001b[1;32m    690\u001b[0m         \u001b[39mf\u001b[39m\u001b[39m\"\u001b[39m\u001b[39mUnexpected mode: \u001b[39m\u001b[39m{\u001b[39;00mrender_mode\u001b[39m}\u001b[39;00m\u001b[39m, expected modes: human, rgb_array, or depth_array\u001b[39m\u001b[39m\"\u001b[39m\n\u001b[1;32m    691\u001b[0m     )\n\u001b[1;32m    692\u001b[0m \u001b[39m# Add default camera parameters\u001b[39;00m\n\u001b[1;32m    693\u001b[0m \u001b[39mself\u001b[39m\u001b[39m.\u001b[39m_set_cam_config()\n",
      "\u001b[0;31mAttributeError\u001b[0m: Unexpected mode: None, expected modes: human, rgb_array, or depth_array"
     ]
    }
   ],
   "source": [
    "import time\n",
    "# There. we finished\n",
    "# Lets see it in action\n",
    "done = False\n",
    "cnt = 0\n",
    "\n",
    "env = gym.make('InvertedDoublePendulum-v4')#, render_mode=\"human\")\n",
    "\n",
    "observation, info = env.reset()\n",
    "\n",
    "reward_arr_eval = []\n",
    "\n",
    "for i in range(50):\n",
    "    load()\n",
    "    observation, info = env.reset()\n",
    "    done = False\n",
    "    cnt = 0\n",
    "    reward_ = 0\n",
    "    itr = 0\n",
    "    while True:\n",
    "        itr += 1\n",
    "        if itr == 1000:\n",
    "            break\n",
    "        env.render()\n",
    "        a = Actor(torch.tensor(observation).float().to(device))\n",
    "        observation, reward, done, _, _ = env.step(a.detach().to(\"cpu\").numpy())\n",
    "        # Lets see how long it lasts until failing\n",
    "        reward_ += reward\n",
    "        if done:\n",
    "            break\n",
    "    reward_arr_eval.append(reward_)\n",
    "    #print(f\"Game lasted {cnt} moves\")\n",
    "\n",
    "    #time.sleep(100)\n",
    "    #print(i)\n",
    "    if i == 50:\n",
    "        break\n",
    "env.close()\n",
    "plt.plot(reward_arr_eval)\n"
   ]
  },
  {
   "cell_type": "code",
   "execution_count": 33,
   "metadata": {},
   "outputs": [],
   "source": [
    "env.close()"
   ]
  },
  {
   "cell_type": "code",
   "execution_count": null,
   "metadata": {},
   "outputs": [],
   "source": []
  }
 ],
 "metadata": {
  "kernelspec": {
   "display_name": "rl",
   "language": "python",
   "name": "python3"
  },
  "language_info": {
   "codemirror_mode": {
    "name": "ipython",
    "version": 3
   },
   "file_extension": ".py",
   "mimetype": "text/x-python",
   "name": "python",
   "nbconvert_exporter": "python",
   "pygments_lexer": "ipython3",
   "version": "3.11.2"
  },
  "orig_nbformat": 4
 },
 "nbformat": 4,
 "nbformat_minor": 2
}
