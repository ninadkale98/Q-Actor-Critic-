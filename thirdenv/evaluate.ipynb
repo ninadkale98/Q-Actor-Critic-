{
 "cells": [
  {
   "cell_type": "code",
   "execution_count": 22,
   "metadata": {},
   "outputs": [
    {
     "name": "stdout",
     "output_type": "stream",
     "text": [
      "cuda  in use\n"
     ]
    }
   ],
   "source": [
    "import gymnasium as gym\n",
    "from gymnasium import spaces\n",
    "\n",
    "# PyTorch imports\n",
    "import torch\n",
    "from torch import nn\n",
    "import torch.optim as optim\n",
    "import torch.nn.functional as F\n",
    "from torch.distributions import Categorical\n",
    "if torch.cuda.is_available():\n",
    "  device = \"cuda\" \n",
    "else:\n",
    "  device = \"cpu\"\n",
    "device_ = torch.device(device)\n",
    "print(device, \" in use\")\n",
    "torch.autograd.set_detect_anomaly(True)\n",
    "\n",
    "# Utility librarues\n",
    "import base64, io\n",
    "import random\n",
    "import pickle\n",
    "import numpy as np\n",
    "import time\n",
    "import matplotlib\n",
    "import matplotlib.pyplot as plt\n",
    "#plt.style.use('seaborn')\n",
    "from itertools import count\n",
    "\n",
    "is_ipython = 'inline' in matplotlib.get_backend()\n",
    "if is_ipython:\n",
    "    from IPython import display\n",
    "\n",
    "plt.ion()\n",
    "\n",
    "torch.cuda.get_device_name(0)\n",
    "\n",
    "obs_space = 11\n",
    "action_space = 1"
   ]
  },
  {
   "cell_type": "code",
   "execution_count": 23,
   "metadata": {},
   "outputs": [],
   "source": [
    "class Actor_net(nn.Module):\n",
    "    def __init__(self):\n",
    "        super(Actor_net, self).__init__()\n",
    "        self.layer1 = nn.Linear(obs_space, 128)\n",
    "        self.hidden = nn.Linear(128, 128)\n",
    "        self.out = nn.Linear(128, action_space) # action probabilities\n",
    "        \n",
    "\n",
    "    def forward(self, x):\n",
    "        x = F.relu(self.layer1(x))\n",
    "        x = F.relu(self.hidden(x))\n",
    "        action_prob = torch.tanh(self.out(x)) # -1 to 1\n",
    "        return action_prob"
   ]
  },
  {
   "cell_type": "code",
   "execution_count": 24,
   "metadata": {},
   "outputs": [],
   "source": [
    "class Critic_net(nn.Module):\n",
    "    def __init__(self):\n",
    "        super(Critic_net, self).__init__()\n",
    "        self.layer1 = nn.Linear(obs_space + 1, 128)\n",
    "        self.hidden = nn.Linear(128, 128)\n",
    "        self.out = nn.Linear(128, 1) # action probabilities\n",
    "\n",
    "    def forward(self, x):\n",
    "        x = F.relu(self.layer1(x))\n",
    "        x = F.relu(self.hidden(x))\n",
    "        Q_val = self.out(x)\n",
    "        return Q_val"
   ]
  },
  {
   "cell_type": "code",
   "execution_count": 25,
   "metadata": {},
   "outputs": [],
   "source": [
    "Actor = Actor_net().to(device)\n",
    "Critic = Critic_net().to(device)\n",
    "\n",
    "Actor_lr = 0.0001\n",
    "Actor_optim = optim.SGD(Actor.parameters(), lr = Actor_lr)\n",
    "Qsa_lr = 0.0001\n",
    "Critic_optim = optim.SGD(Critic.parameters(), lr = Qsa_lr)"
   ]
  },
  {
   "cell_type": "code",
   "execution_count": 26,
   "metadata": {},
   "outputs": [
    {
     "data": {
      "text/plain": [
       "<All keys matched successfully>"
      ]
     },
     "execution_count": 26,
     "metadata": {},
     "output_type": "execute_result"
    }
   ],
   "source": [
    "PATH = \"IP_Actor_QAC.pth\"\n",
    "Actor.load_state_dict(torch.load(PATH))"
   ]
  },
  {
   "cell_type": "code",
   "execution_count": 27,
   "metadata": {},
   "outputs": [],
   "source": [
    "def load():\n",
    "    PATH = \"IP_Actor_QAC.pth\"\n",
    "    Actor.load_state_dict(torch.load(PATH))"
   ]
  },
  {
   "cell_type": "code",
   "execution_count": 34,
   "metadata": {},
   "outputs": [
    {
     "name": "stderr",
     "output_type": "stream",
     "text": [
      "Exception ignored in: <function WindowViewer.__del__ at 0x7f21dd630540>\n",
      "Traceback (most recent call last):\n",
      "  File \"/home/hri/miniconda3/envs/rl/lib/python3.11/site-packages/gymnasium/envs/mujoco/mujoco_rendering.py\", line 337, in __del__\n",
      "    self.free()\n",
      "  File \"/home/hri/miniconda3/envs/rl/lib/python3.11/site-packages/gymnasium/envs/mujoco/mujoco_rendering.py\", line 332, in free\n",
      "    glfw.destroy_window(self.window)\n",
      "  File \"/home/hri/miniconda3/envs/rl/lib/python3.11/site-packages/glfw/__init__.py\", line 1279, in destroy_window\n",
      "    window_addr = ctypes.cast(ctypes.pointer(window),\n",
      "                              ^^^^^^^^^^^^^^^^^^^^^^\n",
      "TypeError: _type_ must have storage info\n"
     ]
    },
    {
     "ename": "KeyboardInterrupt",
     "evalue": "",
     "output_type": "error",
     "traceback": [
      "\u001b[0;31m---------------------------------------------------------------------------\u001b[0m",
      "\u001b[0;31mKeyboardInterrupt\u001b[0m                         Traceback (most recent call last)",
      "Cell \u001b[0;32mIn[34], line 34\u001b[0m\n\u001b[1;32m     30\u001b[0m         \u001b[39mbreak\u001b[39;00m\n\u001b[1;32m     31\u001b[0m \u001b[39m#reward_arr_eval.append(reward_)\u001b[39;00m\n\u001b[1;32m     32\u001b[0m \u001b[39m#print(f\"Game lasted {cnt} moves\")\u001b[39;00m\n\u001b[0;32m---> 34\u001b[0m time\u001b[39m.\u001b[39msleep(\u001b[39m10\u001b[39m)\n",
      "\u001b[0;31mKeyboardInterrupt\u001b[0m: "
     ]
    }
   ],
   "source": [
    "import time\n",
    "# There. we finished\n",
    "# Lets see it in action\n",
    "done = False\n",
    "cnt = 0\n",
    "\n",
    "env = gym.make('InvertedDoublePendulum-v4', render_mode=\"human\")\n",
    "\n",
    "observation, info = env.reset()\n",
    "\n",
    "reward_arr_eval = []\n",
    "\n",
    "while True:\n",
    "    load()\n",
    "    observation, info = env.reset()\n",
    "    done = False\n",
    "    cnt = 0\n",
    "    reward_ = 0\n",
    "    itr = 0\n",
    "    while True:\n",
    "        itr += 1\n",
    "        if itr == 1000:\n",
    "            break\n",
    "        #env.render()\n",
    "        a = Actor(torch.tensor(observation).float().to(device))\n",
    "        observation, reward, done, _, _ = env.step(a.detach().to(\"cpu\").numpy())\n",
    "        # Lets see how long it lasts until failing\n",
    "        reward_ += reward\n",
    "        if done:\n",
    "            break\n",
    "    #reward_arr_eval.append(reward_)\n",
    "    #print(f\"Game lasted {cnt} moves\")\n",
    "\n",
    "    time.sleep(10)\n",
    "    "
   ]
  },
  {
   "cell_type": "code",
   "execution_count": 36,
   "metadata": {},
   "outputs": [
    {
     "name": "stderr",
     "output_type": "stream",
     "text": [
      "Exception ignored in: <function WindowViewer.__del__ at 0x7f21dd630540>\n",
      "Traceback (most recent call last):\n",
      "  File \"/home/hri/miniconda3/envs/rl/lib/python3.11/site-packages/gymnasium/envs/mujoco/mujoco_rendering.py\", line 337, in __del__\n",
      "    self.free()\n",
      "  File \"/home/hri/miniconda3/envs/rl/lib/python3.11/site-packages/gymnasium/envs/mujoco/mujoco_rendering.py\", line 332, in free\n",
      "    glfw.destroy_window(self.window)\n",
      "  File \"/home/hri/miniconda3/envs/rl/lib/python3.11/site-packages/glfw/__init__.py\", line 1279, in destroy_window\n",
      "    window_addr = ctypes.cast(ctypes.pointer(window),\n",
      "                              ^^^^^^^^^^^^^^^^^^^^^^\n",
      "TypeError: _type_ must have storage info\n"
     ]
    },
    {
     "data": {
      "text/plain": [
       "[<matplotlib.lines.Line2D at 0x7f21dd6b6210>]"
      ]
     },
     "execution_count": 36,
     "metadata": {},
     "output_type": "execute_result"
    },
    {
     "data": {
      "image/png": "[encoded data removed]",
      "text/plain": [
       "<Figure size 640x480 with 1 Axes>"
      ]
     },
     "metadata": {},
     "output_type": "display_data"
    }
   ],
   "source": [
    "import time\n",
    "# There. we finished\n",
    "# Lets see it in action\n",
    "done = False\n",
    "cnt = 0\n",
    "\n",
    "env = gym.make('InvertedDoublePendulum-v4')#, render_mode=\"human\")\n",
    "\n",
    "observation, info = env.reset()\n",
    "\n",
    "reward_arr_eval = []\n",
    "\n",
    "for i in range(50):\n",
    "    load()\n",
    "    observation, info = env.reset()\n",
    "    done = False\n",
    "    cnt = 0\n",
    "    reward_ = 0\n",
    "    itr = 0\n",
    "    while True:\n",
    "        itr += 1\n",
    "        if itr == 1000:\n",
    "            break\n",
    "        #env.render()\n",
    "        a = Actor(torch.tensor(observation).float().to(device))\n",
    "        observation, reward, done, _, _ = env.step(a.detach().to(\"cpu\").numpy())\n",
    "        # Lets see how long it lasts until failing\n",
    "        reward_ += reward\n",
    "        if done:\n",
    "            break\n",
    "    reward_arr_eval.append(reward_)\n",
    "    #print(f\"Game lasted {cnt} moves\")\n",
    "\n",
    "    #time.sleep(100)\n",
    "    #print(i)\n",
    "    if i == 50:\n",
    "        break\n",
    "env.close()\n",
    "plt.plot(reward_arr_eval)\n"
   ]
  },
  {
   "cell_type": "code",
   "execution_count": 35,
   "metadata": {},
   "outputs": [],
   "source": [
    "env.close()"
   ]
  },
  {
   "cell_type": "code",
   "execution_count": null,
   "metadata": {},
   "outputs": [],
   "source": []
  }
 ],
 "metadata": {
  "kernelspec": {
   "display_name": "rl",
   "language": "python",
   "name": "python3"
  },
  "language_info": {
   "codemirror_mode": {
    "name": "ipython",
    "version": 3
   },
   "file_extension": ".py",
   "mimetype": "text/x-python",
   "name": "python",
   "nbconvert_exporter": "python",
   "pygments_lexer": "ipython3",
   "version": "3.11.2"
  },
  "orig_nbformat": 4
 },
 "nbformat": 4,
 "nbformat_minor": 2
}
