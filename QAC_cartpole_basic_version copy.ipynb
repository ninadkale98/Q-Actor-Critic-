{
 "cells": [
  {
   "cell_type": "code",
   "execution_count": 245,
   "metadata": {},
   "outputs": [
    {
     "name": "stdout",
     "output_type": "stream",
     "text": [
      "cuda  in use\n"
     ]
    },
    {
     "name": "stderr",
     "output_type": "stream",
     "text": [
      "/tmp/ipykernel_13324/3926632485.py:25: MatplotlibDeprecationWarning: The seaborn styles shipped by Matplotlib are deprecated since 3.6, as they no longer correspond to the styles shipped by seaborn. However, they will remain available as 'seaborn-v0_8-<style>'. Alternatively, directly use the seaborn API instead.\n",
      "  plt.style.use('seaborn')\n"
     ]
    },
    {
     "data": {
      "text/plain": [
       "<contextlib.ExitStack at 0x7f1f4da185d0>"
      ]
     },
     "execution_count": 245,
     "metadata": {},
     "output_type": "execute_result"
    }
   ],
   "source": [
    "import gymnasium as gym\n",
    "from gymnasium import spaces\n",
    "\n",
    "# PyTorch imports\n",
    "import torch\n",
    "from torch import nn\n",
    "import torch.optim as optim\n",
    "import torch.nn.functional as F\n",
    "from torch.distributions import Categorical\n",
    "if torch.cuda.is_available():\n",
    "  device = \"cuda\" \n",
    "else:\n",
    "  device = \"cpu\"\n",
    "print(device, \" in use\")\n",
    "torch.autograd.set_detect_anomaly(True)\n",
    "\n",
    "# Utility librarues\n",
    "import base64, io\n",
    "import random\n",
    "import pickle\n",
    "import numpy as np\n",
    "import time\n",
    "import matplotlib\n",
    "import matplotlib.pyplot as plt\n",
    "plt.style.use('seaborn')\n",
    "from itertools import count\n",
    "\n",
    "is_ipython = 'inline' in matplotlib.get_backend()\n",
    "if is_ipython:\n",
    "    from IPython import display\n",
    "\n",
    "plt.ion()"
   ]
  },
  {
   "cell_type": "code",
   "execution_count": 246,
   "metadata": {},
   "outputs": [],
   "source": [
    "env = gym.make('CartPole-v1')\n",
    "\n",
    "obs_space = 4\n",
    "action_space = 2"
   ]
  },
  {
   "cell_type": "markdown",
   "metadata": {},
   "source": []
  },
  {
   "attachments": {},
   "cell_type": "markdown",
   "metadata": {},
   "source": [
    "# Actor Network"
   ]
  },
  {
   "cell_type": "code",
   "execution_count": null,
   "metadata": {},
   "outputs": [],
   "source": []
  },
  {
   "cell_type": "code",
   "execution_count": 276,
   "metadata": {},
   "outputs": [],
   "source": [
    "class Actor(nn.Module):\n",
    "    def __init__(self):\n",
    "        super(Actor, self).__init__()\n",
    "        self.layer1 = nn.Linear(obs_space, 128)\n",
    "        self.hidden = nn.Linear(128, 128)\n",
    "        self.out = nn.Linear(128, action_space) # action probabilities\n",
    "\n",
    "    def forward(self, x):\n",
    "        x = F.relu(self.layer1(x))\n",
    "        x = F.relu(self.hidden(x))\n",
    "        action_prob = F.sigmoid(self.out(x), dim=-1) # softmax\n",
    "        return action_prob\n"
   ]
  },
  {
   "attachments": {},
   "cell_type": "markdown",
   "metadata": {},
   "source": [
    "# Q Critic Network"
   ]
  },
  {
   "cell_type": "code",
   "execution_count": 277,
   "metadata": {},
   "outputs": [],
   "source": [
    "class Q_Critic(nn.Module):\n",
    "    def __init__(self):\n",
    "        super(Q_Critic, self).__init__()\n",
    "        self.layer1 = nn.Linear(obs_space + 1, 128)\n",
    "        self.hidden = nn.Linear(128, 128)\n",
    "        self.out = nn.Linear(128, 1) # action probabilities\n",
    "\n",
    "    def forward(self, x):\n",
    "        x = F.relu(self.layer1(x))\n",
    "        x = F.relu(self.hidden(x))\n",
    "        Q_val = self.out(x)\n",
    "        return Q_val"
   ]
  },
  {
   "attachments": {},
   "cell_type": "markdown",
   "metadata": {},
   "source": [
    "# Potential ideas\n",
    "\n",
    "normalise input observation before passing to Q network also action space start point as 1 instead of 0\n"
   ]
  },
  {
   "cell_type": "code",
   "execution_count": 278,
   "metadata": {},
   "outputs": [],
   "source": [
    "def give_action(obs, Actor_model): # obs in numpy\n",
    "    obs = torch.from_numpy(obs).float()\n",
    "    probs = Actor_model(obs)\n",
    "    dist = Categorical(probs)\n",
    "    action = dist.sample()\n",
    "    log_prob = dist.log_prob(action)\n",
    "\n",
    "    return action.item(), log_prob\n"
   ]
  },
  {
   "cell_type": "code",
   "execution_count": 272,
   "metadata": {},
   "outputs": [],
   "source": [
    "def give_Qsa(obs, action, Qsa_model): # obs, action both in numpy\n",
    "    #action_arr = 1 + 2*np.eye(action_space)[action].reshape(-1) # [2,1] or [1,2]\n",
    "    inp = np.concatenate((obs, [action]))\n",
    "    inp = np.reshape(inp, -1)\n",
    "    print(inp , \" ------------------\")\n",
    "    inp = torch.from_numpy(inp).float()\n",
    "    Qval = Qsa_model(inp)\n",
    "    return Qval"
   ]
  },
  {
   "cell_type": "code",
   "execution_count": 273,
   "metadata": {},
   "outputs": [],
   "source": [
    "Actor_model = Actor()\n",
    "Qsa_model = Q_Critic()\n",
    "Actor_lr = 0.0001\n",
    "Actor_optim = optim.SGD(Actor_model.parameters(), lr = Actor_lr)\n",
    "Qsa_lr = 0.00001\n",
    "Qsa_optim = optim.SGD(Qsa_model.parameters(), lr = Qsa_lr)"
   ]
  },
  {
   "cell_type": "code",
   "execution_count": 274,
   "metadata": {},
   "outputs": [],
   "source": [
    "max_itr = 1000\n",
    "gamma = 0.99\n",
    "episodes = 500\n",
    "mini_batch = 4\n"
   ]
  },
  {
   "cell_type": "code",
   "execution_count": 275,
   "metadata": {},
   "outputs": [
    {
     "ename": "KeyboardInterrupt",
     "evalue": "",
     "output_type": "error",
     "traceback": [
      "\u001b[0;31m---------------------------------------------------------------------------\u001b[0m",
      "\u001b[0;31mKeyboardInterrupt\u001b[0m                         Traceback (most recent call last)",
      "Cell \u001b[0;32mIn[275], line 30\u001b[0m\n\u001b[1;32m     26\u001b[0m exp \u001b[39m=\u001b[39m reward \u001b[39m+\u001b[39m gamma\u001b[39m*\u001b[39mnew_Qsa\n\u001b[1;32m     27\u001b[0m tderr \u001b[39m=\u001b[39m reward \u001b[39m+\u001b[39m gamma\u001b[39m*\u001b[39mnew_Qsa \u001b[39m-\u001b[39m Qsa \n\u001b[0;32m---> 30\u001b[0m Critic_loss_T \u001b[39m=\u001b[39m criterion(Qsa ,  torch\u001b[39m.\u001b[39;49mtensor(exp))\u001b[39m# nn.MSELoss(exp, Qsa) #(exp - Qsa).pow(2).mean()\u001b[39;00m\n\u001b[1;32m     31\u001b[0m Qsa_optim\u001b[39m.\u001b[39mzero_grad()\n\u001b[1;32m     32\u001b[0m Critic_loss_T\u001b[39m.\u001b[39mbackward()  \u001b[39m#retain_graph=True\u001b[39;00m\n",
      "File \u001b[0;32m~/miniconda3/envs/rl/lib/python3.11/site-packages/torch/nn/modules/module.py:1501\u001b[0m, in \u001b[0;36mModule._call_impl\u001b[0;34m(self, *args, **kwargs)\u001b[0m\n\u001b[1;32m   1496\u001b[0m \u001b[39m# If we don't have any hooks, we want to skip the rest of the logic in\u001b[39;00m\n\u001b[1;32m   1497\u001b[0m \u001b[39m# this function, and just call forward.\u001b[39;00m\n\u001b[1;32m   1498\u001b[0m \u001b[39mif\u001b[39;00m \u001b[39mnot\u001b[39;00m (\u001b[39mself\u001b[39m\u001b[39m.\u001b[39m_backward_hooks \u001b[39mor\u001b[39;00m \u001b[39mself\u001b[39m\u001b[39m.\u001b[39m_backward_pre_hooks \u001b[39mor\u001b[39;00m \u001b[39mself\u001b[39m\u001b[39m.\u001b[39m_forward_hooks \u001b[39mor\u001b[39;00m \u001b[39mself\u001b[39m\u001b[39m.\u001b[39m_forward_pre_hooks\n\u001b[1;32m   1499\u001b[0m         \u001b[39mor\u001b[39;00m _global_backward_pre_hooks \u001b[39mor\u001b[39;00m _global_backward_hooks\n\u001b[1;32m   1500\u001b[0m         \u001b[39mor\u001b[39;00m _global_forward_hooks \u001b[39mor\u001b[39;00m _global_forward_pre_hooks):\n\u001b[0;32m-> 1501\u001b[0m     \u001b[39mreturn\u001b[39;00m forward_call(\u001b[39m*\u001b[39;49margs, \u001b[39m*\u001b[39;49m\u001b[39m*\u001b[39;49mkwargs)\n\u001b[1;32m   1502\u001b[0m \u001b[39m# Do not call functions when jit is used\u001b[39;00m\n\u001b[1;32m   1503\u001b[0m full_backward_hooks, non_full_backward_hooks \u001b[39m=\u001b[39m [], []\n",
      "File \u001b[0;32m~/miniconda3/envs/rl/lib/python3.11/site-packages/torch/nn/modules/loss.py:536\u001b[0m, in \u001b[0;36mMSELoss.forward\u001b[0;34m(self, input, target)\u001b[0m\n\u001b[1;32m    535\u001b[0m \u001b[39mdef\u001b[39;00m \u001b[39mforward\u001b[39m(\u001b[39mself\u001b[39m, \u001b[39minput\u001b[39m: Tensor, target: Tensor) \u001b[39m-\u001b[39m\u001b[39m>\u001b[39m Tensor:\n\u001b[0;32m--> 536\u001b[0m     \u001b[39mreturn\u001b[39;00m F\u001b[39m.\u001b[39;49mmse_loss(\u001b[39minput\u001b[39;49m, target, reduction\u001b[39m=\u001b[39;49m\u001b[39mself\u001b[39;49m\u001b[39m.\u001b[39;49mreduction)\n",
      "File \u001b[0;32m~/miniconda3/envs/rl/lib/python3.11/site-packages/torch/nn/functional.py:3294\u001b[0m, in \u001b[0;36mmse_loss\u001b[0;34m(input, target, size_average, reduce, reduction)\u001b[0m\n\u001b[1;32m   3291\u001b[0m \u001b[39mif\u001b[39;00m size_average \u001b[39mis\u001b[39;00m \u001b[39mnot\u001b[39;00m \u001b[39mNone\u001b[39;00m \u001b[39mor\u001b[39;00m reduce \u001b[39mis\u001b[39;00m \u001b[39mnot\u001b[39;00m \u001b[39mNone\u001b[39;00m:\n\u001b[1;32m   3292\u001b[0m     reduction \u001b[39m=\u001b[39m _Reduction\u001b[39m.\u001b[39mlegacy_get_string(size_average, reduce)\n\u001b[0;32m-> 3294\u001b[0m expanded_input, expanded_target \u001b[39m=\u001b[39m torch\u001b[39m.\u001b[39;49mbroadcast_tensors(\u001b[39minput\u001b[39;49m, target)\n\u001b[1;32m   3295\u001b[0m \u001b[39mreturn\u001b[39;00m torch\u001b[39m.\u001b[39m_C\u001b[39m.\u001b[39m_nn\u001b[39m.\u001b[39mmse_loss(expanded_input, expanded_target, _Reduction\u001b[39m.\u001b[39mget_enum(reduction))\n",
      "File \u001b[0;32m~/miniconda3/envs/rl/lib/python3.11/site-packages/torch/functional.py:74\u001b[0m, in \u001b[0;36mbroadcast_tensors\u001b[0;34m(*tensors)\u001b[0m\n\u001b[1;32m     72\u001b[0m \u001b[39mif\u001b[39;00m has_torch_function(tensors):\n\u001b[1;32m     73\u001b[0m     \u001b[39mreturn\u001b[39;00m handle_torch_function(broadcast_tensors, tensors, \u001b[39m*\u001b[39mtensors)\n\u001b[0;32m---> 74\u001b[0m \u001b[39mreturn\u001b[39;00m _VF\u001b[39m.\u001b[39;49mbroadcast_tensors(tensors)\n",
      "\u001b[0;31mKeyboardInterrupt\u001b[0m: "
     ]
    },
    {
     "data": {
      "text/plain": [
       "<Figure size 800x550 with 0 Axes>"
      ]
     },
     "metadata": {},
     "output_type": "display_data"
    }
   ],
   "source": [
    "max_itr_epi = []\n",
    "avg_reward = []\n",
    "itr = 0\n",
    "running_reward = 10\n",
    "criterion = nn.MSELoss()\n",
    "for cnt in count():\n",
    "\n",
    "    itr += 1\n",
    "    obs, info = env.reset()\n",
    "    terminated, truncated = False, False\n",
    "\n",
    "    ep_reward = 0\n",
    "    for i in range(max_itr):\n",
    "        action, log_prob = give_action(obs, Actor_model)\n",
    "        Qsa = give_Qsa(obs, action, Qsa_model)\n",
    "\n",
    "        new_obs, reward, terminated, truncated, info = env.step(action)\n",
    "\n",
    "        if terminated or truncated:\n",
    "            new_Qsa = 0\n",
    "        else:\n",
    "            with torch.no_grad():\n",
    "                new_action, new_log_prob = give_action(new_obs, Actor_model)\n",
    "            new_Qsa = give_Qsa(new_obs, new_action, Qsa_model)\n",
    "\n",
    "        exp = reward + gamma*new_Qsa\n",
    "        tderr = reward + gamma*new_Qsa - Qsa \n",
    "\n",
    "        \n",
    "        Critic_loss_T = criterion(Qsa ,  torch.tensor(exp))# nn.MSELoss(exp, Qsa) #(exp - Qsa).pow(2).mean()\n",
    "        Qsa_optim.zero_grad()\n",
    "        Critic_loss_T.backward()  #retain_graph=True\n",
    "        Qsa_optim.step()\n",
    "\n",
    "        Actor_loss_T = -log_prob* tderr.detach() #critic_loss(log_prob, tderr.detach())\n",
    "        Actor_optim.zero_grad()\n",
    "        Actor_loss_T.backward()\n",
    "        Actor_optim.step()\n",
    "    \n",
    "        obs = new_obs\n",
    "        ep_reward += reward\n",
    "        \n",
    "        if truncated or terminated:\n",
    "            max_itr_epi.append(ep_reward)\n",
    "            break\n",
    "    \n",
    "    running_reward = 0.05 * ep_reward + (1-0.05) * running_reward\n",
    "    avg_reward.append(running_reward)\n",
    "\n",
    "    # if itr % 10 == 0: \n",
    "    #     print(\"Episode {}\\tLast Reward: {:.2f}\\tAverage reward: {:.2f}\".format(\n",
    "    #         itr, ep_reward, running_reward\n",
    "    #     ))\n",
    "    if itr% 100 == 0:\n",
    "        plt.plot(max_itr_epi)\n",
    "        plt.plot(avg_reward)\n",
    "        plt.pause(0.001)\n",
    "\n",
    "        display.display(plt.gcf())\n",
    "        display.clear_output(wait=True)\n",
    "\n",
    "    # Backpropagation\n",
    "    # Actor_optim.zero_grad()\n",
    "    # Actor_loss_T = torch.stack(Actor_loss).sum()\n",
    "    # Actor_loss_T.backward()\n",
    "    # Actor_optim.step()\n",
    "\n",
    "    # Qsa_optim.zero_grad()\n",
    "    # Critic_loss_T = torch.stack(Critic_loss).sum()\n",
    "    # Critic_loss_T.backward()\n",
    "    # Qsa_optim.step()"
   ]
  },
  {
   "cell_type": "code",
   "execution_count": 244,
   "metadata": {},
   "outputs": [
    {
     "data": {
      "text/plain": [
       "[<matplotlib.lines.Line2D at 0x7f1f439ae3d0>]"
      ]
     },
     "execution_count": 244,
     "metadata": {},
     "output_type": "execute_result"
    },
    {
     "data": {
      "image/png": "[encoded data removed]",
      "text/plain": [
       "<Figure size 800x550 with 1 Axes>"
      ]
     },
     "metadata": {},
     "output_type": "display_data"
    }
   ],
   "source": [
    "plt.plot(max_itr_epi)\n",
    "plt.plot(avg_reward)"
   ]
  },
  {
   "cell_type": "code",
   "execution_count": 76,
   "metadata": {},
   "outputs": [
    {
     "name": "stdout",
     "output_type": "stream",
     "text": [
      "Game lasted 27 moves\n"
     ]
    }
   ],
   "source": [
    "# There. we finished\n",
    "# Lets see it in action\n",
    "done = False\n",
    "cnt = 0\n",
    "\n",
    "env = gym.make('CartPole-v1', render_mode=\"human\")\n",
    "\n",
    "observation, info = env.reset()\n",
    "while True:\n",
    "    cnt += 1\n",
    "    env.render()\n",
    "    action, log_prob = give_action(observation, Actor_model)\n",
    "    observation, reward, done, _, _ = env.step(action)\n",
    "    # Lets see how long it lasts until failing\n",
    "    if done:\n",
    "        break\n",
    "print(f\"Game lasted {cnt} moves\")\n",
    "\n",
    "env.close()"
   ]
  },
  {
   "cell_type": "code",
   "execution_count": null,
   "metadata": {},
   "outputs": [],
   "source": []
  },
  {
   "cell_type": "code",
   "execution_count": null,
   "metadata": {},
   "outputs": [],
   "source": []
  }
 ],
 "metadata": {
  "kernelspec": {
   "display_name": "rl",
   "language": "python",
   "name": "python3"
  },
  "language_info": {
   "codemirror_mode": {
    "name": "ipython",
    "version": 3
   },
   "file_extension": ".py",
   "mimetype": "text/x-python",
   "name": "python",
   "nbconvert_exporter": "python",
   "pygments_lexer": "ipython3",
   "version": "3.11.2"
  },
  "orig_nbformat": 4
 },
 "nbformat": 4,
 "nbformat_minor": 2
}
